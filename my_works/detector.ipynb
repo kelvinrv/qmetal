{
 "cells": [
  {
   "cell_type": "markdown",
   "id": "35d27b44",
   "metadata": {},
   "source": [
    "# Resonator_mascara_cap\n",
    "\n",
    "Authors: Kelvin Ramos\n"
   ]
  },
  {
   "cell_type": "code",
   "execution_count": 1,
   "id": "0b0da17a",
   "metadata": {},
   "outputs": [],
   "source": [
    "# Import useful packages\n",
    "import qiskit_metal as metal\n",
    "from qiskit_metal import designs, draw\n",
    "from qiskit_metal import MetalGUI, Dict, open_docs\n",
    "from qiskit_metal.toolbox_metal import math_and_overrides\n",
    "from qiskit_metal.qlibrary.core import QComponent\n",
    "from collections import OrderedDict\n",
    "\n",
    "# To create plots after geting solution data.\n",
    "import matplotlib.pyplot as plt\n",
    "import numpy as np\n",
    "\n",
    "# Packages for the simple design\n",
    "from qiskit_metal.qlibrary.tlines.meandered import RouteMeander\n",
    "from qiskit_metal.qlibrary.tlines.pathfinder import RoutePathfinder\n",
    "from qiskit_metal.qlibrary.terminations.launchpad_wb_driven import LaunchpadWirebondDriven\n",
    "from qiskit_metal.qlibrary.terminations.open_to_ground import OpenToGround\n",
    "from qiskit_metal.qlibrary.terminations.short_to_ground import ShortToGround\n",
    "from qiskit_metal.qlibrary.couplers.coupled_line_tee import CoupledLineTee\n",
    "\n",
    "# Analysis\n",
    "# from qiskit_metal.renderers.renderer_gds.gds_renderer import QGDSRenderer\n",
    "# from qiskit_metal.analyses.quantization import EPRanalysis\n",
    "from qiskit_metal.analyses.quantization import EPRanalysis\n",
    "from qiskit_metal.analyses.simulation import ScatteringImpedanceSim\n",
    "from qiskit_metal.analyses.sweep_and_optimize.sweeping import Sweeping\n",
    "import pyEPR as epr"
   ]
  },
  {
   "cell_type": "markdown",
   "id": "c6e244f8",
   "metadata": {},
   "source": [
    "# diseño del chip"
   ]
  },
  {
   "cell_type": "code",
   "execution_count": 2,
   "id": "a2c10fef",
   "metadata": {},
   "outputs": [],
   "source": [
    "### Frecuencia de resonancia\n",
    "def resonancia(f):\n",
    "    c,eff=3e8,6.25\n",
    "    long=c/(4*np.sqrt(eff)*f)\n",
    "    return long"
   ]
  },
  {
   "cell_type": "code",
   "execution_count": 3,
   "id": "90188593",
   "metadata": {},
   "outputs": [
    {
     "name": "stdout",
     "output_type": "stream",
     "text": [
      "6.0 GHz, 5.0 mm\n",
      "7.0 GHz, 4.285714285714286 mm\n",
      "8.0 GHz, 3.75 mm\n"
     ]
    }
   ],
   "source": [
    "freq=np.array([6e9,7e9,8e9]) \n",
    "for i in range(len(freq)):\n",
    "    z=resonancia(freq[i])\n",
    "    print(freq[i]*1e-9,'GHz,', z*1e3, 'mm')"
   ]
  },
  {
   "cell_type": "code",
   "execution_count": 2,
   "id": "3983eac9",
   "metadata": {},
   "outputs": [],
   "source": [
    "# Set up chip dimensions \n",
    "design = designs.DesignPlanar()\n",
    "design._chips['main']['size']['size_x'] = '10mm'\n",
    "design._chips['main']['size']['size_y'] = '10mm'\n",
    "design._chips['main']['size']['size_z'] = '-200um'\n",
    "# Resonator and feedline gap width (W) and center conductor width (S) from reference 2\n",
    "design.variables['cpw_width'] = '20um' #S from reference 2\n",
    "design.variables['cpw_gap'] = '11um' #W from reference 2\n",
    "\n",
    "\n",
    "design.overwrite_enabled = True\n",
    "\n",
    "hfss = design.renderers.hfss\n",
    "\n",
    "# Open GUI\n",
    "gui = MetalGUI(design)"
   ]
  },
  {
   "cell_type": "code",
   "execution_count": 3,
   "id": "cc2c100f",
   "metadata": {},
   "outputs": [],
   "source": [
    "# Define for renderer\n",
    "eig_qres = EPRanalysis(design, \"hfss\")\n",
    "hfss = design.renderers.hfss\n",
    "hfss = eig_qres.sim.renderer\n",
    "q3d = design.renderers.q3d"
   ]
  },
  {
   "cell_type": "markdown",
   "id": "055c0bef",
   "metadata": {},
   "source": [
    "# Capacitors\n",
    "\n",
    "Here we will have a single feedline couple to 16 CPW resonators.\n"
   ]
  },
  {
   "cell_type": "code",
   "execution_count": 4,
   "id": "e56fe388",
   "metadata": {},
   "outputs": [],
   "source": [
    "#### Coordenadas de los Capacitores \n",
    "x1, x2, x3, x4 = '2.0 mm','4.0 mm', '6.0 mm','8.0 mm' \n",
    "xx1, xx2, xx3, xx4 = '3.0 mm','5.0 mm', '7.0 mm','9.0 mm' \n",
    "y_i, y_m, y_e = '1.0 mm', '5.0 mm', '9.0 mm'"
   ]
  },
  {
   "cell_type": "code",
   "execution_count": 5,
   "id": "39edaee9",
   "metadata": {},
   "outputs": [],
   "source": [
    "\n",
    "ubi_1=dict(pos_x=x1, pos_y=y_e, prime_width='20um', prime_gap='11um', \n",
    "         second_width='20um', second_gap='11um', coupling_space='11um', \n",
    "         coupling_length='125um', down_length='100um', fillet='50um', hfss_wire_bonds=True)\n",
    "ubi_2=dict(pos_x=x2, pos_y=y_e, prime_width='20um', prime_gap='11um', \n",
    "         second_width='20um', second_gap='11um', coupling_space='11um', \n",
    "         coupling_length='112um', down_length='100um', fillet='50um', hfss_wire_bonds=True)\n",
    "ubi_3=dict(pos_x=x3, pos_y=y_e, prime_width='20um', prime_gap='11um', \n",
    "         second_width='20um', second_gap='11um', coupling_space='10um', \n",
    "         coupling_length='95um', down_length='100um', fillet='50um', hfss_wire_bonds=True)\n",
    "ubi_4=dict(pos_x=x4, pos_y=y_e, prime_width='20um', prime_gap='11um', \n",
    "         second_width='20um', second_gap='11um', coupling_space='10um', \n",
    "         coupling_length='95um', down_length='100um', fillet='50um', hfss_wire_bonds=True)\n",
    "\n",
    "Capacitor_1 = CoupledLineTee(design, 'Capacitor_1', options=ubi_1)\n",
    "Capacitor_2 = CoupledLineTee(design, 'Capacitor_2', options=ubi_2)\n",
    "Capacitor_3 = CoupledLineTee(design, 'Capacitor_3', options=ubi_3)\n",
    "Capacitor_4 = CoupledLineTee(design, 'Capacitor_4', options=ubi_4)\n",
    "\n",
    "\n",
    "gui.rebuild()\n",
    "gui.autoscale()"
   ]
  },
  {
   "cell_type": "markdown",
   "id": "ce4ca222",
   "metadata": {},
   "source": [
    "# Launchpad\n",
    "\n",
    "\n",
    "The lauchpad should be included in the driven model simulations.\n",
    "\n",
    "For that reason, we use the LaunchpadWirebondDriven component which has an extra pin for input/output"
   ]
  },
  {
   "cell_type": "code",
   "execution_count": 6,
   "id": "ef570ed8",
   "metadata": {},
   "outputs": [],
   "source": [
    "###################\n",
    "# Single feedline #\n",
    "###################\n",
    "\n",
    "# Driven Lauchpad 1\n",
    "x_1 = '0.5 mm'\n",
    "y_1 = '9.0 mm'\n",
    "ops_1 = Dict(chip='main', pos_x=x_1, pos_y=y_1, orientation='360', lead_length='10um', \n",
    "             pad_width='200um', trace_width='20um', trace_gap='11um')\n",
    "LP1 = LaunchpadWirebondDriven(design, 'LP1', options = ops_1)\n",
    "\n",
    "# Driven Launchpad 2\n",
    "x_2 = '10.2 mm'\n",
    "y_2 = '1.0 mm'\n",
    "ops_2 = Dict(chip='main', pos_x=x_2, pos_y=y_2, orientation='180', lead_length='10um',\n",
    "             pad_width='200um', trace_width='20um', trace_gap='11um')\n",
    "LP2 = LaunchpadWirebondDriven(design, 'LP2', options = ops_2)\n",
    "\n",
    "\n",
    "# Rebuild the GUI\n",
    "gui.rebuild()\n",
    "gui.autoscale()"
   ]
  },
  {
   "cell_type": "markdown",
   "id": "f092163f",
   "metadata": {},
   "source": [
    "# Transmission lines"
   ]
  },
  {
   "cell_type": "markdown",
   "id": "ac57d683",
   "metadata": {},
   "source": [
    "## First part"
   ]
  },
  {
   "cell_type": "code",
   "execution_count": 7,
   "id": "e9fa20dd",
   "metadata": {},
   "outputs": [],
   "source": [
    "# Using path finder to connect the two launchpads\n",
    "# Using path finder to connect the two launchpads\n",
    "#### LP1 capacitor\n",
    "linea_1 = RoutePathfinder(design, 'linea_1', options = Dict(chip='main', trace_width ='20um',\n",
    "        trace_gap ='11um', fillet='99um', hfss_wire_bonds = True, lead=Dict(end_straight='0.0mm'),\n",
    "                                            pin_inputs=Dict(\n",
    "                                                start_pin=Dict(\n",
    "                                                    component='LP1',\n",
    "                                                    pin='tie'),\n",
    "                                                end_pin=Dict(\n",
    "                                                    component='Capacitor_1',\n",
    "                                                    pin='prime_start')\n",
    "                                            )))\n",
    "#### LP1 capacitora\n",
    "linea_2 = RoutePathfinder(design, 'linea_2', options = Dict(chip='main', trace_width ='20um',\n",
    "        trace_gap ='11um', fillet='99um', hfss_wire_bonds = True,\n",
    "                                            lead=Dict(end_straight='0.0mm'),\n",
    "                                            pin_inputs=Dict(\n",
    "                                                start_pin=Dict(\n",
    "                                                    component='Capacitor_1',\n",
    "                                                    pin='prime_end'),\n",
    "                                                end_pin=Dict(\n",
    "                                                    component='Capacitor_2',\n",
    "                                                    pin='prime_start')\n",
    "                                            )))\n",
    "\n",
    "#### LP1 capacitorb\n",
    "linea_3 = RoutePathfinder(design, 'linea_3', options = Dict(chip='main', trace_width ='20um',\n",
    "        trace_gap ='11um', fillet='99um', hfss_wire_bonds = True,\n",
    "                                           lead=Dict(end_straight='0.0mm'),\n",
    "                                            pin_inputs=Dict(\n",
    "                                                start_pin=Dict(\n",
    "                                                    component='Capacitor_2',\n",
    "                                                    pin='prime_end'),\n",
    "                                                end_pin=Dict(\n",
    "                                                    component='Capacitor_3',\n",
    "                                                    pin='prime_start')\n",
    "                                            )))\n",
    "\n",
    "linea_4 = RoutePathfinder(design, 'linea_4', options = Dict(chip='main', trace_width ='20um',\n",
    "        trace_gap ='11um', fillet='50um', hfss_wire_bonds = True,\n",
    "                                            lead=Dict(end_straight='0.0mm'),\n",
    "                                            pin_inputs=Dict(\n",
    "                                                start_pin=Dict(\n",
    "                                                    component='Capacitor_3',\n",
    "                                                    pin='prime_end'),\n",
    "                                                end_pin=Dict(\n",
    "                                                    component='Capacitor_4',\n",
    "                                                    pin='prime_start')\n",
    "                                            )))\n",
    "#### LP2 capacitorb\n",
    "\n",
    "\n",
    "# Rebuild the GUI\n",
    "gui.rebuild()\n",
    "gui.autoscale() \n"
   ]
  },
  {
   "cell_type": "markdown",
   "id": "f6eec4ad",
   "metadata": {},
   "source": [
    "# First line Resonators"
   ]
  },
  {
   "cell_type": "code",
   "execution_count": 20,
   "id": "92b1570a",
   "metadata": {},
   "outputs": [],
   "source": [
    "######################\n",
    "# lambda/4 resonator #\n",
    "######################\n",
    "\n",
    "# First we define the two end-points\n",
    "yy_pos='7.5mm'\n",
    "\n",
    "otg1 = ShortToGround(design, 'otg1', options=Dict(chip='main', pos_x=x1,  pos_y=yy_pos,\n",
    "                                                  orientation='0'))\n",
    "##============================================\n",
    "\n",
    "otg2 = ShortToGround(design, 'otg2', options=Dict(chip='main', pos_x=x2,  pos_y=yy_pos,\n",
    "                                                  orientation='0'))\n",
    "##============================================\n",
    "otg3 = ShortToGround(design, 'otg3', options=Dict(chip='main', pos_x=x3,  pos_y=yy_pos, \n",
    "                                                  orientation='0'))\n",
    "##============================================\n",
    "otg4 = ShortToGround(design, 'otg4', options=Dict(chip='main', pos_x=x4,  pos_y=yy_pos,\n",
    "                                                  orientation='0'))\n",
    "\n",
    "# Use RouteMeander to fix the total length of the resonator\n",
    "meandro_1 = RouteMeander(design, 'meandro_1',  options=Dict(chip='main',\n",
    "        trace_width ='cpw_width',\n",
    "        trace_gap ='11um',\n",
    "        total_length='5.1mm',\n",
    "        hfss_wire_bonds = True,\n",
    "        fillet='90 um',\n",
    "        lead = Dict(start_straight='400um', end_straight='100um'),\n",
    "        meander=Dict(spacing='200um', asymmetry='0um'),\n",
    "        pin_inputs=Dict(\n",
    "            start_pin=Dict(component='Capacitor_1', pin='second_end'),\n",
    "            end_pin=Dict(component='otg1', pin='short')), ))\n",
    "\n",
    "meandro_2 = RouteMeander(design, 'meandro_2',  options=Dict(chip='main',\n",
    "        trace_width ='cpw_width',\n",
    "        trace_gap ='11um',\n",
    "        total_length='5.0mm',\n",
    "        hfss_wire_bonds = True,\n",
    "        fillet='90 um',\n",
    "        lead = Dict(start_straight='400um', end_straight='100um'),\n",
    "        meander=Dict(spacing='200um', asymmetry='0um'),\n",
    "        pin_inputs=Dict(\n",
    "            start_pin=Dict(component='Capacitor_2', pin='second_end'),\n",
    "            end_pin=Dict(component='otg2', pin='short')), ))\n",
    "\n",
    "meandro_3 =RouteMeander(design, 'meandro_3',  options=Dict(chip='main',\n",
    "        trace_width ='cpw_width',\n",
    "        trace_gap ='11um',\n",
    "        total_length='4.9mm',\n",
    "        hfss_wire_bonds = True,\n",
    "        fillet='90 um',\n",
    "        lead = Dict(start_straight='400um', end_straight='200um'),\n",
    "        meander=Dict(spacing='200um', asymmetry='0um'),\n",
    "        pin_inputs=Dict(\n",
    "            start_pin=Dict(component='Capacitor_3', pin='second_end'),\n",
    "            end_pin=Dict(component='otg3', pin='short')), ))\n",
    "\n",
    "meandro_4= RouteMeander(design, 'meandro_4',  options=Dict(chip='main',\n",
    "        trace_width ='cpw_width',\n",
    "        trace_gap ='11um',\n",
    "        total_length='4.8mm',\n",
    "        hfss_wire_bonds = True,\n",
    "        fillet='90 um',\n",
    "        lead = Dict(start_straight='200um', end_straight='200um'),\n",
    "        meander=Dict(spacing='200um', asymmetry='0um'),\n",
    "        pin_inputs=Dict(\n",
    "            start_pin=Dict(component='Capacitor_4', pin='second_end'),\n",
    "            end_pin=Dict(component='otg4', pin='short')), ))\n",
    "\n",
    "\n",
    "# rebuild the GUI\n",
    "gui.rebuild()\n",
    "gui.autoscale()"
   ]
  },
  {
   "cell_type": "markdown",
   "id": "0f1cd885",
   "metadata": {},
   "source": [
    "# Second line"
   ]
  },
  {
   "cell_type": "markdown",
   "id": "87bda4ea",
   "metadata": {},
   "source": [
    "## Capacitors_up"
   ]
  },
  {
   "cell_type": "code",
   "execution_count": 9,
   "id": "e87fc1a0",
   "metadata": {},
   "outputs": [],
   "source": [
    "ubi_5=dict(pos_x=xx4, pos_y=y_m, orientation='-180', prime_width='20um', prime_gap='11um', \n",
    "         second_width='20um', second_gap='11um', coupling_space='11um', \n",
    "         coupling_length='125um', down_length='100um', fillet='50um', hfss_wire_bonds=True)\n",
    "ubi_6=dict(pos_x=xx3, pos_y=y_m, orientation='-180', prime_width='20um', prime_gap='11um', \n",
    "         second_width='20um', second_gap='11um', coupling_space='11um', \n",
    "         coupling_length='112um', down_length='100um', fillet='50um', hfss_wire_bonds=True)\n",
    "ubi_7=dict(pos_x=xx2, pos_y=y_m, orientation='-180', prime_width='20um', prime_gap='11um', \n",
    "         second_width='20um', second_gap='11um', coupling_space='10um', \n",
    "         coupling_length='95um', down_length='100um', fillet='50um', hfss_wire_bonds=True)\n",
    "ubi_8=dict(pos_x=xx1, pos_y=y_m, orientation='-180', prime_width='20um', prime_gap='11um', \n",
    "         second_width='20um', second_gap='11um', coupling_space='10um', \n",
    "         coupling_length='95um', down_length='100um', fillet='50um', hfss_wire_bonds=True)\n",
    "\n",
    "Capacitor_5 = CoupledLineTee(design, 'Capacitor_5', options=ubi_5)\n",
    "Capacitor_6 = CoupledLineTee(design, 'Capacitor_6', options=ubi_6)\n",
    "Capacitor_7 = CoupledLineTee(design, 'Capacitor_7', options=ubi_7)\n",
    "Capacitor_8 = CoupledLineTee(design, 'Capacitor_8', options=ubi_8)\n",
    "\n",
    "\n",
    "gui.rebuild()\n",
    "gui.autoscale()"
   ]
  },
  {
   "cell_type": "markdown",
   "id": "99c66d31",
   "metadata": {},
   "source": [
    "## Capacitors_down"
   ]
  },
  {
   "cell_type": "code",
   "execution_count": 10,
   "id": "b9400971",
   "metadata": {},
   "outputs": [],
   "source": [
    "ubi_9=dict(pos_x=x1, pos_y=y_m, orientation='0', prime_width='20um', prime_gap='11um', \n",
    "         second_width='20um', second_gap='11um', coupling_space='11um', \n",
    "         coupling_length='125um', down_length='100um', fillet='50um', hfss_wire_bonds=True)\n",
    "ubi_10=dict(pos_x=x2, pos_y=y_m, orientation='0', prime_width='20um', prime_gap='11um', \n",
    "         second_width='20um', second_gap='11um', coupling_space='11um', \n",
    "         coupling_length='112um', down_length='100um', fillet='50um', hfss_wire_bonds=True)\n",
    "ubi_11=dict(pos_x=x3, pos_y=y_m, orientation='0', prime_width='20um', prime_gap='11um', \n",
    "         second_width='20um', second_gap='11um', coupling_space='10um', \n",
    "         coupling_length='95um', down_length='100um', fillet='50um', hfss_wire_bonds=True)\n",
    "ubi_12=dict(pos_x=x4, pos_y=y_m, orientation='0', prime_width='20um', prime_gap='11um', \n",
    "         second_width='20um', second_gap='11um', coupling_space='10um', \n",
    "         coupling_length='95um', down_length='100um', fillet='50um', hfss_wire_bonds=True)\n",
    "\n",
    "Capacitor_9 = CoupledLineTee(design, 'Capacitor_9', options=ubi_9)\n",
    "Capacitor_10 = CoupledLineTee(design, 'Capacitor_10', options=ubi_10)\n",
    "Capacitor_11 = CoupledLineTee(design, 'Capacitor_11', options=ubi_11)\n",
    "Capacitor_12 = CoupledLineTee(design, 'Capacitor_12', options=ubi_12)\n",
    "\n",
    "\n",
    "gui.rebuild()\n",
    "gui.autoscale()"
   ]
  },
  {
   "cell_type": "markdown",
   "id": "2db9cf5e",
   "metadata": {},
   "source": [
    "## Line 2 "
   ]
  },
  {
   "cell_type": "code",
   "execution_count": 11,
   "id": "ecf23179",
   "metadata": {},
   "outputs": [],
   "source": [
    "linea_5 = RoutePathfinder(design, 'linea_5', options = Dict(chip='main', trace_width ='20um',\n",
    "        trace_gap ='11um', fillet='50um', hfss_wire_bonds = True,\n",
    "                                            lead=Dict(start_straight='1.1 mm', end_straight='1.1 mm'),\n",
    "                                            pin_inputs=Dict(\n",
    "                                                start_pin=Dict(\n",
    "                                                    component='Capacitor_4',\n",
    "                                                    pin='prime_end'),\n",
    "                                                end_pin=Dict(\n",
    "                                                    component='Capacitor_5',\n",
    "                                                    pin='prime_start')\n",
    "                                            )))"
   ]
  },
  {
   "cell_type": "code",
   "execution_count": 12,
   "id": "1fd9b0c6",
   "metadata": {},
   "outputs": [],
   "source": [
    "## Capacitor 4 con 5\n",
    "\n",
    "\n",
    "## Capacitor 5 end con 12 end\n",
    "linea_6 = RoutePathfinder(design, 'linea_6', options = Dict(chip='main', trace_width ='20um',\n",
    "        trace_gap ='11um', fillet='99um', hfss_wire_bonds = True, lead=Dict(end_straight='0.0mm'),\n",
    "                                            pin_inputs=Dict(\n",
    "                                                start_pin=Dict(\n",
    "                                                    component='Capacitor_5',\n",
    "                                                    pin='prime_end'),\n",
    "                                                end_pin=Dict(\n",
    "                                                    component='Capacitor_12',\n",
    "                                                    pin='prime_end')\n",
    "                                            )))\n",
    "#### Capacitor 12 start con 6 start\n",
    "linea_7 = RoutePathfinder(design, 'linea_7', options = Dict(chip='main', trace_width ='20um',\n",
    "        trace_gap ='11um', fillet='99um', hfss_wire_bonds = True,\n",
    "                                            lead=Dict(end_straight='0.0mm'),\n",
    "                                            pin_inputs=Dict(\n",
    "                                                start_pin=Dict(\n",
    "                                                    component='Capacitor_12',\n",
    "                                                    pin='prime_start'),\n",
    "                                                end_pin=Dict(\n",
    "                                                    component='Capacitor_6',\n",
    "                                                    pin='prime_start')\n",
    "                                            )))\n",
    "\n",
    "###### Capacitor 6 end con 11 end\n",
    "linea_8 = RoutePathfinder(design, 'linea_8', options = Dict(chip='main', trace_width ='20um',\n",
    "        trace_gap ='11um', fillet='99um', hfss_wire_bonds = True,\n",
    "                                           lead=Dict(end_straight='0.0mm'),\n",
    "                                            pin_inputs=Dict(\n",
    "                                                start_pin=Dict(\n",
    "                                                    component='Capacitor_6',\n",
    "                                                    pin='prime_end'),\n",
    "                                                end_pin=Dict(\n",
    "                                                    component='Capacitor_11',\n",
    "                                                    pin='prime_end')\n",
    "                                            )))\n",
    "\n",
    "###### Capacitor 11 start con 7 start\n",
    "linea_9 = RoutePathfinder(design, 'linea_9', options = Dict(chip='main', trace_width ='20um',\n",
    "        trace_gap ='11um', fillet='99um', hfss_wire_bonds = True,\n",
    "                                           lead=Dict(end_straight='0.0mm'),\n",
    "                                            pin_inputs=Dict(\n",
    "                                                start_pin=Dict(\n",
    "                                                    component='Capacitor_11',\n",
    "                                                    pin='prime_start'),\n",
    "                                                end_pin=Dict(\n",
    "                                                    component='Capacitor_7',\n",
    "                                                    pin='prime_start')\n",
    "                                            )))\n",
    "\n",
    "###### Capacitor 7 end con 10 end\n",
    "linea_10 = RoutePathfinder(design, 'linea_10', options = Dict(chip='main', trace_width ='20um',\n",
    "        trace_gap ='11um', fillet='99um', hfss_wire_bonds = True,\n",
    "                                           lead=Dict(end_straight='0.0mm'),\n",
    "                                            pin_inputs=Dict(\n",
    "                                                start_pin=Dict(\n",
    "                                                    component='Capacitor_7',\n",
    "                                                    pin='prime_end'),\n",
    "                                                end_pin=Dict(\n",
    "                                                    component='Capacitor_10',\n",
    "                                                    pin='prime_end')\n",
    "                                            )))\n",
    "\n",
    "###### Capacitor 10 start con 8 start\n",
    "linea_11 = RoutePathfinder(design, 'linea_11', options = Dict(chip='main', trace_width ='20um',\n",
    "        trace_gap ='11um', fillet='99um', hfss_wire_bonds = True,\n",
    "                                           lead=Dict(end_straight='0.0mm'),\n",
    "                                            pin_inputs=Dict(\n",
    "                                                start_pin=Dict(\n",
    "                                                    component='Capacitor_10',\n",
    "                                                    pin='prime_start'),\n",
    "                                                end_pin=Dict(\n",
    "                                                    component='Capacitor_8',\n",
    "                                                    pin='prime_start')\n",
    "                                            )))\n",
    "\n",
    "###### Capacitor 8 end con 9 end\n",
    "linea_12 = RoutePathfinder(design, 'linea_12', options = Dict(chip='main', trace_width ='20um',\n",
    "        trace_gap ='11um', fillet='99um', hfss_wire_bonds = True,\n",
    "                                           lead=Dict(end_straight='0.0mm'),\n",
    "                                            pin_inputs=Dict(\n",
    "                                                start_pin=Dict(\n",
    "                                                    component='Capacitor_8',\n",
    "                                                    pin='prime_end'),\n",
    "                                                end_pin=Dict(\n",
    "                                                    component='Capacitor_9',\n",
    "                                                    pin='prime_end')\n",
    "                                            )))\n",
    "\n",
    "gui.rebuild()\n",
    "gui.autoscale() \n"
   ]
  },
  {
   "cell_type": "markdown",
   "id": "2e36129d",
   "metadata": {},
   "source": [
    "## Second Resonator"
   ]
  },
  {
   "cell_type": "code",
   "execution_count": 21,
   "id": "9b4df5d5",
   "metadata": {},
   "outputs": [],
   "source": [
    "######################\n",
    "# lambda/4 resonator #\n",
    "######################\n",
    "\n",
    "# First we define the two end-points\n",
    "yy_pos='6.5mm'\n",
    "\n",
    "otg5 = ShortToGround(design, 'otg5', options=Dict(chip='main', pos_x=xx4,  pos_y=yy_pos,\n",
    "                                                  orientation='0'))\n",
    "##============================================\n",
    "\n",
    "otg6 = ShortToGround(design, 'otg6', options=Dict(chip='main', pos_x=xx3,  pos_y=yy_pos,\n",
    "                                                  orientation='0'))\n",
    "##============================================\n",
    "otg7 = ShortToGround(design, 'otg7', options=Dict(chip='main', pos_x=xx2,  pos_y=yy_pos, \n",
    "                                                  orientation='0'))\n",
    "##============================================\n",
    "otg8 = ShortToGround(design, 'otg8', options=Dict(chip='main', pos_x=xx1,  pos_y=yy_pos,\n",
    "                                                  orientation='0'))\n",
    "\n",
    "# Use RouteMeander to fix the total length of the resonator\n",
    "meandro_5 = RouteMeander(design, 'meandro_5',  options=Dict(chip='main',\n",
    "        trace_width ='cpw_width',\n",
    "        trace_gap ='11um',\n",
    "        total_length='4.7mm',\n",
    "        hfss_wire_bonds = True,\n",
    "        fillet='90 um',\n",
    "        lead = Dict(start_straight='400um', end_straight='100um'),\n",
    "        meander=Dict(spacing='200um', asymmetry='0um'),\n",
    "        pin_inputs=Dict(\n",
    "            start_pin=Dict(component='Capacitor_5', pin='second_end'),\n",
    "            end_pin=Dict(component='otg5', pin='short')), ))\n",
    "\n",
    "meandro_6 = RouteMeander(design, 'meandro_6',  options=Dict(chip='main',\n",
    "        trace_width ='cpw_width',\n",
    "        trace_gap ='11um',\n",
    "        total_length='4.6mm',\n",
    "        hfss_wire_bonds = True,\n",
    "        fillet='90 um',\n",
    "        lead = Dict(start_straight='400um', end_straight='100um'),\n",
    "        meander=Dict(spacing='200um', asymmetry='0um'),\n",
    "        pin_inputs=Dict(\n",
    "            start_pin=Dict(component='Capacitor_6', pin='second_end'),\n",
    "            end_pin=Dict(component='otg6', pin='short')), ))\n",
    "\n",
    "meandro_7 =RouteMeander(design, 'meandro_7',  options=Dict(chip='main',\n",
    "        trace_width ='cpw_width',\n",
    "        trace_gap ='11um',\n",
    "        total_length='4.54mm',\n",
    "        hfss_wire_bonds = True,\n",
    "        fillet='90 um',\n",
    "        lead = Dict(start_straight='400um', end_straight='200um'),\n",
    "        meander=Dict(spacing='200um', asymmetry='0um'),\n",
    "        pin_inputs=Dict(\n",
    "            start_pin=Dict(component='Capacitor_7', pin='second_end'),\n",
    "            end_pin=Dict(component='otg7', pin='short')), ))\n",
    "\n",
    "meandro_8= RouteMeander(design, 'meandro_8',  options=Dict(chip='main',\n",
    "        trace_width ='cpw_width',\n",
    "        trace_gap ='11um',\n",
    "        total_length='4.54mm',\n",
    "        hfss_wire_bonds = True,\n",
    "        fillet='90 um',\n",
    "        lead = Dict(start_straight='200um', end_straight='200um'),\n",
    "        meander=Dict(spacing='200um', asymmetry='0um'),\n",
    "        pin_inputs=Dict(\n",
    "            start_pin=Dict(component='Capacitor_8', pin='second_end'),\n",
    "            end_pin=Dict(component='otg8', pin='short')), ))\n",
    "\n",
    "\n",
    "# rebuild the GUI\n",
    "gui.rebuild()\n",
    "gui.autoscale()"
   ]
  },
  {
   "cell_type": "markdown",
   "id": "e929ad5a",
   "metadata": {},
   "source": [
    "# Third section"
   ]
  },
  {
   "cell_type": "markdown",
   "id": "0374c6df",
   "metadata": {},
   "source": [
    "## Capacitor_up"
   ]
  },
  {
   "cell_type": "code",
   "execution_count": 14,
   "id": "2c657910",
   "metadata": {},
   "outputs": [],
   "source": [
    "ubi_13=dict(pos_x=xx1, pos_y=y_i, orientation='-180', prime_width='20um', prime_gap='11um', \n",
    "         second_width='20um', second_gap='11um', coupling_space='11um', \n",
    "         coupling_length='125um', down_length='100um', fillet='50um', hfss_wire_bonds=True)\n",
    "\n",
    "ubi_14=dict(pos_x=xx2, pos_y=y_i, orientation='-180', prime_width='20um', prime_gap='11um', \n",
    "         second_width='20um', second_gap='11um', coupling_space='11um', \n",
    "         coupling_length='112um', down_length='100um', fillet='50um', hfss_wire_bonds=True)\n",
    "\n",
    "ubi_15=dict(pos_x=xx3, pos_y=y_i, orientation='-180', prime_width='20um', prime_gap='11um', \n",
    "         second_width='20um', second_gap='11um', coupling_space='10um', \n",
    "         coupling_length='95um', down_length='100um', fillet='50um', hfss_wire_bonds=True)\n",
    "\n",
    "ubi_16=dict(pos_x=xx4, pos_y=y_i, orientation='-180', prime_width='20um', prime_gap='11um', \n",
    "         second_width='20um', second_gap='11um', coupling_space='10um', \n",
    "         coupling_length='95um', down_length='100um', fillet='50um', hfss_wire_bonds=True)\n",
    "\n",
    "Capacitor_13 = CoupledLineTee(design, 'Capacitor_13', options=ubi_13)\n",
    "Capacitor_14 = CoupledLineTee(design, 'Capacitor_14', options=ubi_14)\n",
    "Capacitor_15 = CoupledLineTee(design, 'Capacitor_15', options=ubi_15)\n",
    "Capacitor_16 = CoupledLineTee(design, 'Capacitor_16', options=ubi_16)\n",
    "\n",
    "\n",
    "gui.rebuild()\n",
    "gui.autoscale()"
   ]
  },
  {
   "cell_type": "markdown",
   "id": "ca2cd16a",
   "metadata": {},
   "source": [
    "## Lines"
   ]
  },
  {
   "cell_type": "code",
   "execution_count": 15,
   "id": "ccd899a5",
   "metadata": {},
   "outputs": [],
   "source": [
    "## Capacitor 4 con 5\n",
    "linea_b = RoutePathfinder(design, 'linea_b', options = Dict(chip='main', trace_width ='20um',\n",
    "        trace_gap ='11um', fillet='90um', hfss_wire_bonds = True,\n",
    "                                            lead=Dict(start_straight='1.2 mm', end_straight='1.2 mm'),\n",
    "                                            pin_inputs=Dict(\n",
    "                                                start_pin=Dict(\n",
    "                                                    component='Capacitor_9',\n",
    "                                                    pin='prime_start'),\n",
    "                                                end_pin=Dict(\n",
    "                                                    component='Capacitor_13',\n",
    "                                                    pin='prime_end')\n",
    "                                            )))"
   ]
  },
  {
   "cell_type": "code",
   "execution_count": 16,
   "id": "afa18911",
   "metadata": {},
   "outputs": [],
   "source": [
    "\n",
    "###### Capacitor 13 start con 14 end\n",
    "linea_14 = RoutePathfinder(design, 'linea_14', options = Dict(chip='main', trace_width ='20um',\n",
    "        trace_gap ='11um', fillet='99um', hfss_wire_bonds = True,\n",
    "                                           lead=Dict(end_straight='0.0mm'),\n",
    "                                            pin_inputs=Dict(\n",
    "                                                start_pin=Dict(\n",
    "                                                    component='Capacitor_13',\n",
    "                                                    pin='prime_start'),\n",
    "                                                end_pin=Dict(\n",
    "                                                    component='Capacitor_14',\n",
    "                                                    pin='prime_end')\n",
    "                                            )))\n",
    "\n",
    "###### Capacitor 14 start con 15 end\n",
    "linea_15 = RoutePathfinder(design, 'linea_15', options = Dict(chip='main', trace_width ='20um',\n",
    "        trace_gap ='11um', fillet='99um', hfss_wire_bonds = True,\n",
    "                                           lead=Dict(end_straight='0.0mm'),\n",
    "                                            pin_inputs=Dict(\n",
    "                                                start_pin=Dict(\n",
    "                                                    component='Capacitor_14',\n",
    "                                                    pin='prime_start'),\n",
    "                                                end_pin=Dict(\n",
    "                                                    component='Capacitor_15',\n",
    "                                                    pin='prime_end')\n",
    "                                            )))\n",
    "\n",
    "###### Capacitor 15 start con 16 end\n",
    "linea_16 = RoutePathfinder(design, 'linea_16', options = Dict(chip='main', trace_width ='20um',\n",
    "        trace_gap ='11um', fillet='99um', hfss_wire_bonds = True,\n",
    "                                           lead=Dict(end_straight='0.0mm'),\n",
    "                                            pin_inputs=Dict(\n",
    "                                                start_pin=Dict(\n",
    "                                                    component='Capacitor_15',\n",
    "                                                    pin='prime_start'),\n",
    "                                                end_pin=Dict(\n",
    "                                                    component='Capacitor_16',\n",
    "                                                    pin='prime_end')\n",
    "                                            )))\n",
    "###### Capacitor 16 start con LP2 tie\n",
    "linea_17 = RoutePathfinder(design, 'linea_17', options = Dict(chip='main', trace_width ='20um',\n",
    "        trace_gap ='11um', fillet='99um', hfss_wire_bonds = True,\n",
    "                                           lead=Dict(end_straight='0.0mm'),\n",
    "                                            pin_inputs=Dict(\n",
    "                                                start_pin=Dict(\n",
    "                                                    component='Capacitor_16',\n",
    "                                                    pin='prime_start'),\n",
    "                                                end_pin=Dict(\n",
    "                                                    component='LP2',\n",
    "                                                    pin='tie')\n",
    "                                            )))\n",
    "\n",
    "gui.rebuild()\n",
    "gui.autoscale() "
   ]
  },
  {
   "cell_type": "markdown",
   "id": "8453ce53",
   "metadata": {},
   "source": [
    "## Resonators  down"
   ]
  },
  {
   "cell_type": "code",
   "execution_count": 22,
   "id": "5462429e",
   "metadata": {},
   "outputs": [],
   "source": [
    "######################\n",
    "# lambda/4 resonator #\n",
    "######################\n",
    "\n",
    "# First we define the two end-points\n",
    "yy_pos_1='3.5mm'\n",
    "\n",
    "otg9 = ShortToGround(design, 'otg9', options=Dict(chip='main', pos_x=x1,  pos_y=yy_pos_1,\n",
    "                                                  orientation='0'))\n",
    "##============================================\n",
    "\n",
    "otg10 = ShortToGround(design, 'otg10', options=Dict(chip='main', pos_x=x2,  pos_y=yy_pos_1,\n",
    "                                                  orientation='0'))\n",
    "##============================================\n",
    "otg11 = ShortToGround(design, 'otg11', options=Dict(chip='main', pos_x=x3,  pos_y=yy_pos_1, \n",
    "                                                  orientation='0'))\n",
    "##============================================\n",
    "otg12 = ShortToGround(design, 'otg12', options=Dict(chip='main', pos_x=x4,  pos_y=yy_pos_1,\n",
    "                                                  orientation='0'))\n",
    "\n",
    "# Use RouteMeander to fix the total length of the resonator\n",
    "meandro_9 = RouteMeander(design, 'meandro_9',  options=Dict(chip='main',\n",
    "        trace_width ='cpw_width',\n",
    "        trace_gap ='11um',\n",
    "        total_length='4.38mm',\n",
    "        hfss_wire_bonds = True,\n",
    "        fillet='90 um',\n",
    "        lead = Dict(start_straight='400um', end_straight='100um'),\n",
    "        meander=Dict(spacing='200um', asymmetry='0um'),\n",
    "        pin_inputs=Dict(\n",
    "            start_pin=Dict(component='Capacitor_9', pin='second_end'),\n",
    "            end_pin=Dict(component='otg9', pin='short')), ))\n",
    "\n",
    "meandro_10 = RouteMeander(design, 'meandro_10',  options=Dict(chip='main',\n",
    "        trace_width ='cpw_width',\n",
    "        trace_gap ='11um',\n",
    "        total_length='4.3mm',\n",
    "        hfss_wire_bonds = True,\n",
    "        fillet='90 um',\n",
    "        lead = Dict(start_straight='400um', end_straight='100um'),\n",
    "        meander=Dict(spacing='200um', asymmetry='0um'),\n",
    "        pin_inputs=Dict(\n",
    "            start_pin=Dict(component='Capacitor_10', pin='second_end'),\n",
    "            end_pin=Dict(component='otg10', pin='short')), ))\n",
    "\n",
    "meandro_11 =RouteMeander(design, 'meandro_11',  options=Dict(chip='main',\n",
    "        trace_width ='cpw_width',\n",
    "        trace_gap ='11um',\n",
    "        total_length='4.23mm',\n",
    "        hfss_wire_bonds = True,\n",
    "        fillet='90 um',\n",
    "        lead = Dict(start_straight='400um', end_straight='200um'),\n",
    "        meander=Dict(spacing='200um', asymmetry='0um'),\n",
    "        pin_inputs=Dict(\n",
    "            start_pin=Dict(component='Capacitor_11', pin='second_end'),\n",
    "            end_pin=Dict(component='otg11', pin='short')), ))\n",
    "\n",
    "meandro_12= RouteMeander(design, 'meandro_12',  options=Dict(chip='main',\n",
    "        trace_width ='cpw_width',\n",
    "        trace_gap ='11um',\n",
    "        total_length='4.16mm',\n",
    "        hfss_wire_bonds = True,\n",
    "        fillet='90 um',\n",
    "        lead = Dict(start_straight='200um', end_straight='200um'),\n",
    "        meander=Dict(spacing='200um', asymmetry='0um'),\n",
    "        pin_inputs=Dict(\n",
    "            start_pin=Dict(component='Capacitor_12', pin='second_end'),\n",
    "            end_pin=Dict(component='otg12', pin='short')), ))\n",
    "\n",
    "\n",
    "# rebuild the GUI\n",
    "gui.rebuild()\n",
    "gui.autoscale()"
   ]
  },
  {
   "cell_type": "markdown",
   "id": "38bce756",
   "metadata": {},
   "source": [
    "## Resonators up"
   ]
  },
  {
   "cell_type": "code",
   "execution_count": 23,
   "id": "f886f7f4",
   "metadata": {},
   "outputs": [],
   "source": [
    "######################\n",
    "# lambda/4 resonator #\n",
    "######################\n",
    "\n",
    "# First we define the two end-points\n",
    "yy_pos_2='2.5mm'\n",
    "\n",
    "otg13 = ShortToGround(design, 'otg13', options=Dict(chip='main', pos_x=xx1,  pos_y=yy_pos_2,\n",
    "                                                  orientation='0'))\n",
    "##============================================\n",
    "\n",
    "otg14 = ShortToGround(design, 'otg14', options=Dict(chip='main', pos_x=xx2,  pos_y=yy_pos_2,\n",
    "                                                  orientation='0'))\n",
    "##============================================\n",
    "otg15 = ShortToGround(design, 'otg15', options=Dict(chip='main', pos_x=xx3,  pos_y=yy_pos_2, \n",
    "                                                  orientation='0'))\n",
    "##============================================\n",
    "otg16 = ShortToGround(design, 'otg16', options=Dict(chip='main', pos_x=xx4,  pos_y=yy_pos_2,\n",
    "                                                  orientation='0'))\n",
    "\n",
    "# Use RouteMeander to fix the total length of the resonator\n",
    "meandro_13 = RouteMeander(design, 'meandro_13',  options=Dict(chip='main',\n",
    "        trace_width ='cpw_width',\n",
    "        trace_gap ='11um',\n",
    "        total_length='4.1mm',\n",
    "        hfss_wire_bonds = True,\n",
    "        fillet='90 um',\n",
    "        lead = Dict(start_straight='400um', end_straight='100um'),\n",
    "        meander=Dict(spacing='200um', asymmetry='0um'),\n",
    "        pin_inputs=Dict(\n",
    "            start_pin=Dict(component='Capacitor_13', pin='second_end'),\n",
    "            end_pin=Dict(component='otg13', pin='short')), ))\n",
    "\n",
    "meandro_14 = RouteMeander(design, 'meandro_14',  options=Dict(chip='main',\n",
    "        trace_width ='cpw_width',\n",
    "        trace_gap ='11um',\n",
    "        total_length='4.02mm',\n",
    "        hfss_wire_bonds = True,\n",
    "        fillet='90 um',\n",
    "        lead = Dict(start_straight='400um', end_straight='100um'),\n",
    "        meander=Dict(spacing='200um', asymmetry='0um'),\n",
    "        pin_inputs=Dict(\n",
    "            start_pin=Dict(component='Capacitor_14', pin='second_end'),\n",
    "            end_pin=Dict(component='otg14', pin='short')), ))\n",
    "\n",
    "meandro_15 =RouteMeander(design, 'meandro_15',  options=Dict(chip='main',\n",
    "        trace_width ='cpw_width',\n",
    "        trace_gap ='11um',\n",
    "        total_length='3.96mm',\n",
    "        hfss_wire_bonds = True,\n",
    "        fillet='90 um',\n",
    "        lead = Dict(start_straight='400um', end_straight='200um'),\n",
    "        meander=Dict(spacing='200um', asymmetry='0um'),\n",
    "        pin_inputs=Dict(\n",
    "            start_pin=Dict(component='Capacitor_15', pin='second_end'),\n",
    "            end_pin=Dict(component='otg15', pin='short')), ))\n",
    "\n",
    "meandro_16= RouteMeander(design, 'meandro_16',  options=Dict(chip='main',\n",
    "        trace_width ='cpw_width',\n",
    "        trace_gap ='11um',\n",
    "        total_length='3.89mm',\n",
    "        hfss_wire_bonds = True,\n",
    "        fillet='90 um',\n",
    "        lead = Dict(start_straight='200um', end_straight='200um'),\n",
    "        meander=Dict(spacing='200um', asymmetry='0um'),\n",
    "        pin_inputs=Dict(\n",
    "            start_pin=Dict(component='Capacitor_16', pin='second_end'),\n",
    "            end_pin=Dict(component='otg16', pin='short')), ))\n",
    "\n",
    "\n",
    "# rebuild the GUI\n",
    "gui.rebuild()\n",
    "gui.autoscale()"
   ]
  },
  {
   "cell_type": "code",
   "execution_count": 19,
   "id": "9956dd38",
   "metadata": {},
   "outputs": [
    {
     "data": {
      "image/png": "[encoded data removed]",
      "text/plain": [
       "<IPython.core.display.Image object>"
      ]
     },
     "metadata": {
      "image/png": {
       "width": 500
      }
     },
     "output_type": "display_data"
    }
   ],
   "source": [
    "gui.autoscale()\n",
    "gui.screenshot()\n"
   ]
  },
  {
   "cell_type": "markdown",
   "id": "8bd2910a",
   "metadata": {},
   "source": [
    "# Scattering Analysis"
   ]
  },
  {
   "cell_type": "code",
   "execution_count": 31,
   "id": "be209d2e",
   "metadata": {},
   "outputs": [],
   "source": [
    "from qiskit_metal.analyses.simulation import ScatteringImpedanceSim\n",
    "em1 = ScatteringImpedanceSim(design, \"hfss\")"
   ]
  },
  {
   "cell_type": "code",
   "execution_count": 32,
   "id": "504994dd",
   "metadata": {},
   "outputs": [],
   "source": [
    "design_name= \"Sweep_DrivenModal\"\n",
    "qcomp_render = [] # Means to render everything in qgeometry table.\n",
    "open_terminations = []\n",
    "\n",
    "# Here, pin LP1_in and LP2_in are converted into lumped ports,\n",
    "#           each with an impedance of 50 Ohms. <br>\n",
    "port_list = [('LP1', 'in', 50),\n",
    "             ('LP2', 'in', 50)]\n",
    "box_plus_buffer = True"
   ]
  },
  {
   "cell_type": "code",
   "execution_count": 38,
   "id": "be7762a9",
   "metadata": {},
   "outputs": [
    {
     "name": "stderr",
     "output_type": "stream",
     "text": [
      "INFO 12:19PM [connect_project]: Connecting to Ansys Desktop API...\n",
      "INFO 12:19PM [load_ansys_project]: \tOpened Ansys App\n",
      "INFO 12:19PM [load_ansys_project]: \tOpened Ansys Desktop v2017.0.0\n",
      "INFO 12:19PM [load_ansys_project]: \tOpened Ansys Project\n",
      "\tFolder:    C:/Users/juliano/Documents/Ansoft/\n",
      "\tProject:   Project15\n",
      "INFO 12:19PM [connect_design]: No active design found (or error getting active design).\n",
      "INFO 12:19PM [connect]: \t Connected to project \"Project15\". No design detected\n"
     ]
    },
    {
     "data": {
      "text/plain": [
       "True"
      ]
     },
     "execution_count": 38,
     "metadata": {},
     "output_type": "execute_result"
    }
   ],
   "source": [
    "# we use HFSS as rendere\n",
    "hfss = em1.renderer\n",
    "hfss.start()"
   ]
  },
  {
   "cell_type": "code",
   "execution_count": 39,
   "id": "6bd25114",
   "metadata": {},
   "outputs": [
    {
     "name": "stderr",
     "output_type": "stream",
     "text": [
      "12:19PM 05s WARNING [activate_ansys_design]: The design_name=mascara3 was not in active project.  Designs in active project are: \n",
      "[].  A new design will be added to the project.  \n",
      "INFO 12:19PM [connect_design]: \tOpened active design\n",
      "\tDesign:    mascara3 [Solution type: DrivenModal]\n",
      "WARNING 12:19PM [connect_setup]: \tNo design setup detected.\n",
      "WARNING 12:19PM [connect_setup]: \tCreating drivenmodal default setup.\n",
      "INFO 12:19PM [get_setup]: \tOpened setup `Setup`  (<class 'pyEPR.ansys.HfssDMSetup'>)\n",
      "12:19PM 08s WARNING [edit_drivenmodal_setup]: In setup_args, key=max_delta_s, value=0.001 is not in pinfo.setup, the key/value pair from setup_args not added to Setup in Ansys.\n"
     ]
    }
   ],
   "source": [
    "# Here we activate the design for a drivenmodal solution\n",
    "hfss.activate_ansys_design(\"mascara3\", 'drivenmodal')\n",
    "setup_args = Dict(max_delta_s=0.001)\n",
    "setup_args.name = 'Setup'\n",
    "hfss.edit_drivenmodal_setup(setup_args)"
   ]
  },
  {
   "cell_type": "code",
   "execution_count": 40,
   "id": "5c8fc60c",
   "metadata": {},
   "outputs": [],
   "source": [
    "# set buffer\n",
    "hfss.options['x_buffer_width_mm'] = 0.4\n",
    "hfss.options['y_buffer_width_mm'] = 0.4"
   ]
  },
  {
   "cell_type": "code",
   "execution_count": 41,
   "id": "522ca07a",
   "metadata": {},
   "outputs": [],
   "source": [
    "# clean the design if needed\n",
    "hfss.clean_active_design()"
   ]
  },
  {
   "cell_type": "code",
   "execution_count": 42,
   "id": "d685f9fc",
   "metadata": {},
   "outputs": [],
   "source": [
    "# render the design\n",
    "hfss.render_design(selection=[], \n",
    "                   open_pins=open_terminations, \n",
    "                   port_list=port_list, \n",
    "                   box_plus_buffer = box_plus_buffer)"
   ]
  },
  {
   "cell_type": "code",
   "execution_count": 43,
   "id": "8a316652",
   "metadata": {},
   "outputs": [],
   "source": [
    "# for acurate simulations, make sure the mesh is fine enough for the meander\n",
    "hfss.modeler.mesh_length(\n",
    "                'cpw_mesh',\n",
    "                ['trace_lineac','trace_lineab','trace_lineaa',\n",
    "                 'trace_linea','trace_meandro', 'trace_meandroa','trace_meandrob',\n",
    "                 'prime_cpw_Capacitora', 'prime_cpw_Capacitorb', 'prime_cpw_Capacitor',\n",
    "                 'launch_pad_LP2', 'launch_pad_LP1', 'second_cpw_Capacitora',\n",
    "                 'second_cpw_Capacitorb', 'second_cpw_Capacitor'],\n",
    "                MaxLength='0.01mm')"
   ]
  },
  {
   "cell_type": "markdown",
   "id": "9ad348ed",
   "metadata": {},
   "source": [
    "# Broad sweet to find the resonance"
   ]
  },
  {
   "cell_type": "code",
   "execution_count": 28,
   "id": "e65e1ab2",
   "metadata": {},
   "outputs": [
    {
     "name": "stderr",
     "output_type": "stream",
     "text": [
      "INFO 10:08PM [get_setup]: \tOpened setup `Setup`  (<class 'pyEPR.ansys.HfssDMSetup'>)\n"
     ]
    },
    {
     "data": {
      "text/plain": [
       "<pyEPR.ansys.HfssFrequencySweep at 0x253290b1b70>"
      ]
     },
     "execution_count": 28,
     "metadata": {},
     "output_type": "execute_result"
    }
   ],
   "source": [
    "hfss.add_sweep(setup_name=\"Setup\", \n",
    "               name=\"Sweep\", \n",
    "               start_ghz=1.0,\n",
    "               stop_ghz=20.0,\n",
    "               count=2001,\n",
    "               type=\"Fast\")"
   ]
  },
  {
   "cell_type": "code",
   "execution_count": 29,
   "id": "bdeac158",
   "metadata": {},
   "outputs": [
    {
     "name": "stderr",
     "output_type": "stream",
     "text": [
      "INFO 10:08PM [get_setup]: \tOpened setup `Setup`  (<class 'pyEPR.ansys.HfssDMSetup'>)\n",
      "INFO 10:08PM [analyze]: Analyzing setup Setup : Sweep\n"
     ]
    }
   ],
   "source": [
    "hfss.analyze_sweep('Sweep', 'Setup')"
   ]
  },
  {
   "cell_type": "code",
   "execution_count": 35,
   "id": "522904f7",
   "metadata": {},
   "outputs": [
    {
     "ename": "ValueError",
     "evalue": "'S[1,1]_Re' is not in list",
     "output_type": "error",
     "traceback": [
      "\u001b[1;31m---------------------------------------------------------------------------\u001b[0m",
      "\u001b[1;31mValueError\u001b[0m                                Traceback (most recent call last)",
      "Input \u001b[1;32mIn [35]\u001b[0m, in \u001b[0;36m<cell line: 1>\u001b[1;34m()\u001b[0m\n\u001b[1;32m----> 1\u001b[0m \u001b[43mhfss\u001b[49m\u001b[38;5;241;43m.\u001b[39;49m\u001b[43mplot_params\u001b[49m\u001b[43m(\u001b[49m\u001b[43m[\u001b[49m\u001b[38;5;124;43m'\u001b[39;49m\u001b[38;5;124;43mS11\u001b[39;49m\u001b[38;5;124;43m'\u001b[39;49m\u001b[43m,\u001b[49m\u001b[43m \u001b[49m\u001b[38;5;124;43m'\u001b[39;49m\u001b[38;5;124;43mS21\u001b[39;49m\u001b[38;5;124;43m'\u001b[39;49m\u001b[43m]\u001b[49m\u001b[43m)\u001b[49m\n",
      "File \u001b[1;32mc:\\users\\juliano\\github\\qiskit-metal\\qiskit_metal\\renderers\\renderer_ansys\\hfss_renderer.py:939\u001b[0m, in \u001b[0;36mQHFSSRenderer.plot_params\u001b[1;34m(self, param_name)\u001b[0m\n\u001b[0;32m    932\u001b[0m \u001b[38;5;28;01mdef\u001b[39;00m \u001b[38;5;21mplot_params\u001b[39m(\u001b[38;5;28mself\u001b[39m, param_name: Union[\u001b[38;5;28mlist\u001b[39m, \u001b[38;5;28;01mNone\u001b[39;00m] \u001b[38;5;241m=\u001b[39m \u001b[38;5;28;01mNone\u001b[39;00m):\n\u001b[0;32m    933\u001b[0m     \u001b[38;5;124;03m\"\"\"Plot one or more parameters (S, Y, or Z) as a function of frequency.\u001b[39;00m\n\u001b[0;32m    934\u001b[0m \u001b[38;5;124;03m    S = scattering matrix, Y = Admittance, Z= impedance.\u001b[39;00m\n\u001b[0;32m    935\u001b[0m \n\u001b[0;32m    936\u001b[0m \u001b[38;5;124;03m    Args:\u001b[39;00m\n\u001b[0;32m    937\u001b[0m \u001b[38;5;124;03m        param_name (Union[list, None], optional): Parameters to plot. Defaults to None.\u001b[39;00m\n\u001b[0;32m    938\u001b[0m \u001b[38;5;124;03m    \"\"\"\u001b[39;00m\n\u001b[1;32m--> 939\u001b[0m     freqs, Pcurves, Pparams \u001b[38;5;241m=\u001b[39m \u001b[38;5;28;43mself\u001b[39;49m\u001b[38;5;241;43m.\u001b[39;49m\u001b[43mget_params\u001b[49m\u001b[43m(\u001b[49m\u001b[43mparam_name\u001b[49m\u001b[43m)\u001b[49m\n\u001b[0;32m    940\u001b[0m     \u001b[38;5;28;01mif\u001b[39;00m Pparams \u001b[38;5;129;01mis\u001b[39;00m \u001b[38;5;129;01mnot\u001b[39;00m \u001b[38;5;28;01mNone\u001b[39;00m:\n\u001b[0;32m    941\u001b[0m         fig, axs \u001b[38;5;241m=\u001b[39m plt\u001b[38;5;241m.\u001b[39msubplots(\u001b[38;5;241m1\u001b[39m, \u001b[38;5;241m2\u001b[39m, figsize\u001b[38;5;241m=\u001b[39m(\u001b[38;5;241m10\u001b[39m, \u001b[38;5;241m6\u001b[39m))\n",
      "File \u001b[1;32mc:\\users\\juliano\\github\\qiskit-metal\\qiskit_metal\\renderers\\renderer_ansys\\hfss_renderer.py:895\u001b[0m, in \u001b[0;36mQHFSSRenderer.get_params\u001b[1;34m(self, param_name)\u001b[0m\n\u001b[0;32m    888\u001b[0m \u001b[38;5;124;03m\"\"\"Get one or more parameters (S, Y, or Z) as a function of frequency.\u001b[39;00m\n\u001b[0;32m    889\u001b[0m \n\u001b[0;32m    890\u001b[0m \u001b[38;5;124;03mArgs:\u001b[39;00m\n\u001b[0;32m    891\u001b[0m \u001b[38;5;124;03m    param_name (Union[list, None], optional): Parameters to obtain. Defaults to None.\u001b[39;00m\n\u001b[0;32m    892\u001b[0m \u001b[38;5;124;03m\"\"\"\u001b[39;00m\n\u001b[0;32m    893\u001b[0m \u001b[38;5;28;01mif\u001b[39;00m \u001b[38;5;28mself\u001b[39m\u001b[38;5;241m.\u001b[39mcurrent_sweep:\n\u001b[1;32m--> 895\u001b[0m     freqs, Pcurves \u001b[38;5;241m=\u001b[39m \u001b[38;5;28;43mself\u001b[39;49m\u001b[38;5;241;43m.\u001b[39;49m\u001b[43mcurrent_sweep\u001b[49m\u001b[38;5;241;43m.\u001b[39;49m\u001b[43mget_network_data\u001b[49m\u001b[43m(\u001b[49m\u001b[43mparam_name\u001b[49m\u001b[43m)\u001b[49m\n\u001b[0;32m    896\u001b[0m     Pparams \u001b[38;5;241m=\u001b[39m pd\u001b[38;5;241m.\u001b[39mDataFrame(Pcurves,\n\u001b[0;32m    897\u001b[0m                            columns\u001b[38;5;241m=\u001b[39mfreqs \u001b[38;5;241m/\u001b[39m \u001b[38;5;241m1e9\u001b[39m,\n\u001b[0;32m    898\u001b[0m                            index\u001b[38;5;241m=\u001b[39mparam_name)\u001b[38;5;241m.\u001b[39mtranspose()\n\u001b[0;32m    899\u001b[0m \u001b[38;5;28;01mreturn\u001b[39;00m freqs, Pcurves, Pparams\n",
      "File \u001b[1;32m~\\.conda\\envs\\kelvin\\lib\\site-packages\\pyEPR\\ansys.py:1784\u001b[0m, in \u001b[0;36mHfssFrequencySweep.get_network_data\u001b[1;34m(self, formats)\u001b[0m\n\u001b[0;32m   1781\u001b[0m \u001b[38;5;66;03m# TODO: If Ansys version is 2019, use 'Real' and 'Imag'\u001b[39;00m\n\u001b[0;32m   1782\u001b[0m \u001b[38;5;66;03m# in place of 'Re' and 'Im\u001b[39;00m\n\u001b[0;32m   1783\u001b[0m \u001b[38;5;28;01mfor\u001b[39;00m i, j \u001b[38;5;129;01min\u001b[39;00m \u001b[38;5;28mlist\u001b[39m:\n\u001b[1;32m-> 1784\u001b[0m     real_idx \u001b[38;5;241m=\u001b[39m \u001b[43mcolnames\u001b[49m\u001b[38;5;241;43m.\u001b[39;49m\u001b[43mindex\u001b[49m\u001b[43m(\u001b[49m\u001b[38;5;124;43m\"\u001b[39;49m\u001b[38;5;132;43;01m%s\u001b[39;49;00m\u001b[38;5;124;43m[\u001b[39;49m\u001b[38;5;132;43;01m%d\u001b[39;49;00m\u001b[38;5;124;43m,\u001b[39;49m\u001b[38;5;132;43;01m%d\u001b[39;49;00m\u001b[38;5;124;43m]_Re\u001b[39;49m\u001b[38;5;124;43m\"\u001b[39;49m\u001b[43m \u001b[49m\u001b[38;5;241;43m%\u001b[39;49m\n\u001b[0;32m   1785\u001b[0m \u001b[43m                            \u001b[49m\u001b[43m(\u001b[49m\u001b[43mdata_type\u001b[49m\u001b[43m,\u001b[49m\u001b[43m \u001b[49m\u001b[43mi\u001b[49m\u001b[43m,\u001b[49m\u001b[43m \u001b[49m\u001b[43mj\u001b[49m\u001b[43m)\u001b[49m\u001b[43m)\u001b[49m\n\u001b[0;32m   1786\u001b[0m     imag_idx \u001b[38;5;241m=\u001b[39m colnames\u001b[38;5;241m.\u001b[39mindex(\u001b[38;5;124m\"\u001b[39m\u001b[38;5;132;01m%s\u001b[39;00m\u001b[38;5;124m[\u001b[39m\u001b[38;5;132;01m%d\u001b[39;00m\u001b[38;5;124m,\u001b[39m\u001b[38;5;132;01m%d\u001b[39;00m\u001b[38;5;124m]_Im\u001b[39m\u001b[38;5;124m\"\u001b[39m \u001b[38;5;241m%\u001b[39m\n\u001b[0;32m   1787\u001b[0m                             (data_type, i, j))\n\u001b[0;32m   1788\u001b[0m     c_arr \u001b[38;5;241m=\u001b[39m array[:, real_idx] \u001b[38;5;241m+\u001b[39m \u001b[38;5;241m1\u001b[39mj \u001b[38;5;241m*\u001b[39m array[:, imag_idx]\n",
      "\u001b[1;31mValueError\u001b[0m: 'S[1,1]_Re' is not in list"
     ]
    }
   ],
   "source": [
    "hfss.plot_params(['S11', 'S21'])"
   ]
  },
  {
   "cell_type": "code",
   "execution_count": null,
   "id": "87eee805",
   "metadata": {},
   "outputs": [],
   "source": []
  },
  {
   "cell_type": "code",
   "execution_count": 33,
   "id": "c1f26b38",
   "metadata": {},
   "outputs": [
    {
     "ename": "ValueError",
     "evalue": "'S[2,1]_Re' is not in list",
     "output_type": "error",
     "traceback": [
      "\u001b[1;31m---------------------------------------------------------------------------\u001b[0m",
      "\u001b[1;31mValueError\u001b[0m                                Traceback (most recent call last)",
      "Input \u001b[1;32mIn [33]\u001b[0m, in \u001b[0;36m<cell line: 2>\u001b[1;34m()\u001b[0m\n\u001b[0;32m      1\u001b[0m \u001b[38;5;66;03m# extract the S21 parameters\u001b[39;00m\n\u001b[1;32m----> 2\u001b[0m freqs, Pcurves, Pparams \u001b[38;5;241m=\u001b[39m \u001b[43mhfss\u001b[49m\u001b[38;5;241;43m.\u001b[39;49m\u001b[43mget_params\u001b[49m\u001b[43m(\u001b[49m\u001b[43m[\u001b[49m\u001b[38;5;124;43m'\u001b[39;49m\u001b[38;5;124;43mS21\u001b[39;49m\u001b[38;5;124;43m'\u001b[39;49m\u001b[43m]\u001b[49m\u001b[43m)\u001b[49m\n",
      "File \u001b[1;32mc:\\users\\juliano\\github\\qiskit-metal\\qiskit_metal\\renderers\\renderer_ansys\\hfss_renderer.py:895\u001b[0m, in \u001b[0;36mQHFSSRenderer.get_params\u001b[1;34m(self, param_name)\u001b[0m\n\u001b[0;32m    888\u001b[0m \u001b[38;5;124;03m\"\"\"Get one or more parameters (S, Y, or Z) as a function of frequency.\u001b[39;00m\n\u001b[0;32m    889\u001b[0m \n\u001b[0;32m    890\u001b[0m \u001b[38;5;124;03mArgs:\u001b[39;00m\n\u001b[0;32m    891\u001b[0m \u001b[38;5;124;03m    param_name (Union[list, None], optional): Parameters to obtain. Defaults to None.\u001b[39;00m\n\u001b[0;32m    892\u001b[0m \u001b[38;5;124;03m\"\"\"\u001b[39;00m\n\u001b[0;32m    893\u001b[0m \u001b[38;5;28;01mif\u001b[39;00m \u001b[38;5;28mself\u001b[39m\u001b[38;5;241m.\u001b[39mcurrent_sweep:\n\u001b[1;32m--> 895\u001b[0m     freqs, Pcurves \u001b[38;5;241m=\u001b[39m \u001b[38;5;28;43mself\u001b[39;49m\u001b[38;5;241;43m.\u001b[39;49m\u001b[43mcurrent_sweep\u001b[49m\u001b[38;5;241;43m.\u001b[39;49m\u001b[43mget_network_data\u001b[49m\u001b[43m(\u001b[49m\u001b[43mparam_name\u001b[49m\u001b[43m)\u001b[49m\n\u001b[0;32m    896\u001b[0m     Pparams \u001b[38;5;241m=\u001b[39m pd\u001b[38;5;241m.\u001b[39mDataFrame(Pcurves,\n\u001b[0;32m    897\u001b[0m                            columns\u001b[38;5;241m=\u001b[39mfreqs \u001b[38;5;241m/\u001b[39m \u001b[38;5;241m1e9\u001b[39m,\n\u001b[0;32m    898\u001b[0m                            index\u001b[38;5;241m=\u001b[39mparam_name)\u001b[38;5;241m.\u001b[39mtranspose()\n\u001b[0;32m    899\u001b[0m \u001b[38;5;28;01mreturn\u001b[39;00m freqs, Pcurves, Pparams\n",
      "File \u001b[1;32m~\\.conda\\envs\\kelvin\\lib\\site-packages\\pyEPR\\ansys.py:1784\u001b[0m, in \u001b[0;36mHfssFrequencySweep.get_network_data\u001b[1;34m(self, formats)\u001b[0m\n\u001b[0;32m   1781\u001b[0m \u001b[38;5;66;03m# TODO: If Ansys version is 2019, use 'Real' and 'Imag'\u001b[39;00m\n\u001b[0;32m   1782\u001b[0m \u001b[38;5;66;03m# in place of 'Re' and 'Im\u001b[39;00m\n\u001b[0;32m   1783\u001b[0m \u001b[38;5;28;01mfor\u001b[39;00m i, j \u001b[38;5;129;01min\u001b[39;00m \u001b[38;5;28mlist\u001b[39m:\n\u001b[1;32m-> 1784\u001b[0m     real_idx \u001b[38;5;241m=\u001b[39m \u001b[43mcolnames\u001b[49m\u001b[38;5;241;43m.\u001b[39;49m\u001b[43mindex\u001b[49m\u001b[43m(\u001b[49m\u001b[38;5;124;43m\"\u001b[39;49m\u001b[38;5;132;43;01m%s\u001b[39;49;00m\u001b[38;5;124;43m[\u001b[39;49m\u001b[38;5;132;43;01m%d\u001b[39;49;00m\u001b[38;5;124;43m,\u001b[39;49m\u001b[38;5;132;43;01m%d\u001b[39;49;00m\u001b[38;5;124;43m]_Re\u001b[39;49m\u001b[38;5;124;43m\"\u001b[39;49m\u001b[43m \u001b[49m\u001b[38;5;241;43m%\u001b[39;49m\n\u001b[0;32m   1785\u001b[0m \u001b[43m                            \u001b[49m\u001b[43m(\u001b[49m\u001b[43mdata_type\u001b[49m\u001b[43m,\u001b[49m\u001b[43m \u001b[49m\u001b[43mi\u001b[49m\u001b[43m,\u001b[49m\u001b[43m \u001b[49m\u001b[43mj\u001b[49m\u001b[43m)\u001b[49m\u001b[43m)\u001b[49m\n\u001b[0;32m   1786\u001b[0m     imag_idx \u001b[38;5;241m=\u001b[39m colnames\u001b[38;5;241m.\u001b[39mindex(\u001b[38;5;124m\"\u001b[39m\u001b[38;5;132;01m%s\u001b[39;00m\u001b[38;5;124m[\u001b[39m\u001b[38;5;132;01m%d\u001b[39;00m\u001b[38;5;124m,\u001b[39m\u001b[38;5;132;01m%d\u001b[39;00m\u001b[38;5;124m]_Im\u001b[39m\u001b[38;5;124m\"\u001b[39m \u001b[38;5;241m%\u001b[39m\n\u001b[0;32m   1787\u001b[0m                             (data_type, i, j))\n\u001b[0;32m   1788\u001b[0m     c_arr \u001b[38;5;241m=\u001b[39m array[:, real_idx] \u001b[38;5;241m+\u001b[39m \u001b[38;5;241m1\u001b[39mj \u001b[38;5;241m*\u001b[39m array[:, imag_idx]\n",
      "\u001b[1;31mValueError\u001b[0m: 'S[2,1]_Re' is not in list"
     ]
    }
   ],
   "source": [
    "# extract the S21 parameters\n",
    "freqs, Pcurves, Pparams = hfss.get_params(['S21'])"
   ]
  },
  {
   "cell_type": "code",
   "execution_count": 32,
   "id": "1c71579a",
   "metadata": {},
   "outputs": [
    {
     "ename": "NameError",
     "evalue": "name 'freqs' is not defined",
     "output_type": "error",
     "traceback": [
      "\u001b[1;31m---------------------------------------------------------------------------\u001b[0m",
      "\u001b[1;31mNameError\u001b[0m                                 Traceback (most recent call last)",
      "Input \u001b[1;32mIn [32]\u001b[0m, in \u001b[0;36m<cell line: 2>\u001b[1;34m()\u001b[0m\n\u001b[0;32m      1\u001b[0m \u001b[38;5;66;03m# find armin \u001b[39;00m\n\u001b[1;32m----> 2\u001b[0m f_res \u001b[38;5;241m=\u001b[39m \u001b[43mfreqs\u001b[49m[np\u001b[38;5;241m.\u001b[39margmin(np\u001b[38;5;241m.\u001b[39mabs(Pparams\u001b[38;5;241m.\u001b[39mS21\u001b[38;5;241m.\u001b[39mvalues))]\n\u001b[0;32m      3\u001b[0m f_res\n",
      "\u001b[1;31mNameError\u001b[0m: name 'freqs' is not defined"
     ]
    }
   ],
   "source": [
    "# find armin \n",
    "f_res = freqs[np.argmin(np.abs(Pparams.S21.values))]\n",
    "f_res"
   ]
  },
  {
   "cell_type": "markdown",
   "id": "43df3d00",
   "metadata": {},
   "source": [
    "# Narrow sweep around the resonance found above"
   ]
  },
  {
   "cell_type": "code",
   "execution_count": null,
   "id": "50ddb791",
   "metadata": {},
   "outputs": [],
   "source": [
    "#fine sweep\n",
    "hfss.add_sweep(setup_name=\"Setup\", \n",
    "               name=\"Sweep_narrow\", \n",
    "               start_ghz=np.round(f_res/1e9,3)-0.01,\n",
    "               stop_ghz=np.round(f_res/1e9,3)+0.01,\n",
    "               count=1001,\n",
    "               type=\"Fast\") #slow but precise"
   ]
  },
  {
   "cell_type": "code",
   "execution_count": null,
   "id": "ffea4175",
   "metadata": {},
   "outputs": [],
   "source": [
    "hfss.analyze_sweep('Sweep_narrow', 'Setup')"
   ]
  },
  {
   "cell_type": "code",
   "execution_count": null,
   "id": "f06626b4",
   "metadata": {},
   "outputs": [],
   "source": [
    "hfss.plot_params(['S11', 'S21'])"
   ]
  },
  {
   "cell_type": "code",
   "execution_count": null,
   "id": "743b8dcf",
   "metadata": {},
   "outputs": [],
   "source": []
  },
  {
   "cell_type": "markdown",
   "id": "c72f2f6d",
   "metadata": {},
   "source": [
    "# Close connections"
   ]
  },
  {
   "cell_type": "code",
   "execution_count": 47,
   "id": "80694931",
   "metadata": {},
   "outputs": [
    {
     "name": "stdout",
     "output_type": "stream",
     "text": [
      "Warning! 3 COM references still alive\n",
      "Ansys will likely refuse to shut down\n"
     ]
    }
   ],
   "source": [
    "em1.close()"
   ]
  },
  {
   "cell_type": "code",
   "execution_count": 58,
   "id": "13927800",
   "metadata": {},
   "outputs": [
    {
     "name": "stdout",
     "output_type": "stream",
     "text": [
      "Warning! 3 COM references still alive\n",
      "Ansys will likely refuse to shut down\n"
     ]
    }
   ],
   "source": [
    "hfss.disconnect_ansys()"
   ]
  },
  {
   "cell_type": "code",
   "execution_count": 50,
   "id": "dc2621b9",
   "metadata": {},
   "outputs": [
    {
     "data": {
      "text/plain": [
       "True"
      ]
     },
     "execution_count": 50,
     "metadata": {},
     "output_type": "execute_result"
    }
   ],
   "source": [
    "gui.main_window.close()"
   ]
  },
  {
   "cell_type": "code",
   "execution_count": 52,
   "id": "6d7375c2",
   "metadata": {},
   "outputs": [
    {
     "ename": "NameError",
     "evalue": "name 'close' is not defined",
     "output_type": "error",
     "traceback": [
      "\u001b[1;31m---------------------------------------------------------------------------\u001b[0m",
      "\u001b[1;31mNameError\u001b[0m                                 Traceback (most recent call last)",
      "Input \u001b[1;32mIn [52]\u001b[0m, in \u001b[0;36m<cell line: 1>\u001b[1;34m()\u001b[0m\n\u001b[1;32m----> 1\u001b[0m \u001b[43mclose\u001b[49m()\n",
      "\u001b[1;31mNameError\u001b[0m: name 'close' is not defined"
     ]
    }
   ],
   "source": [
    "close()"
   ]
  },
  {
   "cell_type": "code",
   "execution_count": 46,
   "id": "81863bcc",
   "metadata": {},
   "outputs": [
    {
     "data": {
      "text/plain": [
       "'0.0.4'"
      ]
     },
     "execution_count": 46,
     "metadata": {},
     "output_type": "execute_result"
    }
   ],
   "source": [
    "import qiskit_metal\n",
    "qiskit_metal.__version__"
   ]
  },
  {
   "cell_type": "code",
   "execution_count": null,
   "id": "6b7596bf",
   "metadata": {},
   "outputs": [],
   "source": []
  }
 ],
 "metadata": {
  "kernelspec": {
   "display_name": "Python 3 (ipykernel)",
   "language": "python",
   "name": "python3"
  },
  "language_info": {
   "codemirror_mode": {
    "name": "ipython",
    "version": 3
   },
   "file_extension": ".py",
   "mimetype": "text/x-python",
   "name": "python",
   "nbconvert_exporter": "python",
   "pygments_lexer": "ipython3",
   "version": "3.10.5"
  },
  "latex_envs": {
   "LaTeX_envs_menu_present": true,
   "autoclose": false,
   "autocomplete": true,
   "bibliofile": "biblio.bib",
   "cite_by": "apalike",
   "current_citInitial": 1,
   "eqLabelWithNumbers": true,
   "eqNumInitial": 1,
   "hotkeys": {
    "equation": "Ctrl-E",
    "itemize": "Ctrl-I"
   },
   "labels_anchors": false,
   "latex_user_defs": false,
   "report_style_numbering": false,
   "user_envs_cfg": false
  },
  "toc": {
   "base_numbering": 1,
   "nav_menu": {},
   "number_sections": true,
   "sideBar": true,
   "skip_h1_title": false,
   "title_cell": "Table of Contents",
   "title_sidebar": "Contents",
   "toc_cell": false,
   "toc_position": {},
   "toc_section_display": true,
   "toc_window_display": false
  }
 },
 "nbformat": 4,
 "nbformat_minor": 5
}
