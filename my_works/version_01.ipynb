{
 "cells": [
  {
   "cell_type": "markdown",
   "id": "35d27b44",
   "metadata": {},
   "source": [
    "# A single Resonator coupled to a feedline\n",
    "\n",
    "Authors: Kelvin Ramos\n"
   ]
  },
  {
   "cell_type": "code",
   "execution_count": 1,
   "id": "0b0da17a",
   "metadata": {},
   "outputs": [],
   "source": [
    "# Import useful packages\n",
    "import qiskit_metal as metal\n",
    "from qiskit_metal import designs, draw\n",
    "from qiskit_metal import MetalGUI, Dict, open_docs\n",
    "from qiskit_metal.qlibrary.core import QComponent\n",
    "from collections import OrderedDict\n",
    "\n",
    "\n",
    "# simple design\n",
    "from qiskit_metal.qlibrary.tlines.meandered import RouteMeander\n",
    "from qiskit_metal.qlibrary.tlines.pathfinder import RoutePathfinder\n",
    "from qiskit_metal.qlibrary.terminations.launchpad_wb_driven import LaunchpadWirebondDriven\n",
    "from qiskit_metal.qlibrary.terminations.open_to_ground import OpenToGround\n",
    "from qiskit_metal.qlibrary.terminations.short_to_ground import ShortToGround\n",
    "\n",
    "# Analysis\n",
    "from qiskit_metal.analyses.quantization import EPRanalysis\n",
    "from qiskit_metal.analyses.simulation import ScatteringImpedanceSim\n",
    "from qiskit_metal.analyses.sweep_and_optimize.sweeping import Sweeping\n",
    "import pyEPR as epr"
   ]
  },
  {
   "cell_type": "markdown",
   "id": "c6e244f8",
   "metadata": {},
   "source": [
    "# Set up the design"
   ]
  },
  {
   "cell_type": "code",
   "execution_count": 2,
   "id": "3983eac9",
   "metadata": {},
   "outputs": [],
   "source": [
    "# Set up chip dimensions \n",
    "design = designs.DesignPlanar()\n",
    "design._chips['main']['size']['size_x'] = '4mm'\n",
    "design._chips['main']['size']['size_y'] = '4mm'\n",
    "design._chips['main']['size']['size_z'] = '-200um'\n",
    "# Resonator and feedline gap width (W) and center conductor width (S) from reference 2\n",
    "design.variables['cpw_width'] = '20um' #S from reference 2\n",
    "design.variables['cpw_gap'] = '11um' #W from reference 2\n",
    "\n",
    "\n",
    "design.overwrite_enabled = True\n",
    "\n",
    "hfss = design.renderers.hfss\n",
    "\n",
    "# Open GUI\n",
    "gui = MetalGUI(design)"
   ]
  },
  {
   "cell_type": "code",
   "execution_count": 3,
   "id": "ef3eb046",
   "metadata": {},
   "outputs": [],
   "source": [
    "#design.chips"
   ]
  },
  {
   "cell_type": "code",
   "execution_count": 4,
   "id": "cc2c100f",
   "metadata": {},
   "outputs": [],
   "source": [
    "# Define for renderer\n",
    "eig_qres = EPRanalysis(design, \"hfss\")\n",
    "hfss = design.renderers.hfss\n",
    "hfss = eig_qres.sim.renderer\n",
    "q3d = design.renderers.q3d"
   ]
  },
  {
   "cell_type": "markdown",
   "id": "055c0bef",
   "metadata": {},
   "source": [
    "# Define the geometry\n",
    "\n",
    "Here we will have a single feedline couple to a single CPW resonator (quarter wavelenght).\n"
   ]
  },
  {
   "cell_type": "code",
   "execution_count": 18,
   "id": "ef570ed8",
   "metadata": {},
   "outputs": [
    {
     "name": "stderr",
     "output_type": "stream",
     "text": [
      "WARNING:py.warnings:C:\\Users\\Quantum Circuits IB\\.conda\\envs\\kelvin\\lib\\site-packages\\pandas\\core\\dtypes\\cast.py:122: ShapelyDeprecationWarning: The array interface is deprecated and will no longer work in Shapely 2.0. Convert the '.coords' to a numpy array instead.\n",
      "  arr = construct_1d_object_array_from_listlike(values)\n",
      "\n",
      "WARNING:py.warnings:C:\\Users\\Quantum Circuits IB\\.conda\\envs\\kelvin\\lib\\site-packages\\pandas\\core\\dtypes\\cast.py:122: ShapelyDeprecationWarning: The array interface is deprecated and will no longer work in Shapely 2.0. Convert the '.coords' to a numpy array instead.\n",
      "  arr = construct_1d_object_array_from_listlike(values)\n",
      "\n",
      "WARNING:py.warnings:C:\\Users\\Quantum Circuits IB\\.conda\\envs\\kelvin\\lib\\site-packages\\pandas\\core\\dtypes\\cast.py:122: ShapelyDeprecationWarning: The array interface is deprecated and will no longer work in Shapely 2.0. Convert the '.coords' to a numpy array instead.\n",
      "  arr = construct_1d_object_array_from_listlike(values)\n",
      "\n",
      "WARNING:py.warnings:C:\\Users\\Quantum Circuits IB\\.conda\\envs\\kelvin\\lib\\site-packages\\pandas\\core\\dtypes\\cast.py:122: ShapelyDeprecationWarning: The array interface is deprecated and will no longer work in Shapely 2.0. Convert the '.coords' to a numpy array instead.\n",
      "  arr = construct_1d_object_array_from_listlike(values)\n",
      "\n",
      "WARNING:py.warnings:C:\\Users\\Quantum Circuits IB\\.conda\\envs\\kelvin\\lib\\site-packages\\pandas\\core\\dtypes\\cast.py:122: ShapelyDeprecationWarning: The array interface is deprecated and will no longer work in Shapely 2.0. Convert the '.coords' to a numpy array instead.\n",
      "  arr = construct_1d_object_array_from_listlike(values)\n",
      "\n",
      "WARNING:py.warnings:C:\\Users\\Quantum Circuits IB\\.conda\\envs\\kelvin\\lib\\site-packages\\pandas\\core\\dtypes\\cast.py:122: ShapelyDeprecationWarning: The array interface is deprecated and will no longer work in Shapely 2.0. Convert the '.coords' to a numpy array instead.\n",
      "  arr = construct_1d_object_array_from_listlike(values)\n",
      "\n"
     ]
    }
   ],
   "source": [
    "###################\n",
    "# Single feedline # \n",
    "###################\n",
    "\n",
    "# Driven Lauchpad 1\n",
    "x1 = '1.0mm'\n",
    "y1 = '2.0mm'\n",
    "\n",
    "general=Dict(chip='main', lead_length='30um', trace_width='20um', trace_gap='11um',\n",
    "            pad_width='120um', pad_gap='65um', taper_height='150um')\n",
    "\n",
    "\n",
    "LP1 = LaunchpadWirebondDriven(design, 'LP1', options = Dict(pos_x=x1, pos_y=y1, orientation='360', **general))\n",
    "\n",
    "# Driven Launchpad 2\n",
    "x2 = '3.0mm'\n",
    "y2 = '2.0mm'\n",
    "\n",
    "\n",
    "LP2 = LaunchpadWirebondDriven(design, 'LP2', options = Dict(pos_x=x2, pos_y=y2, orientation='180', **general))\n",
    "\n",
    "# Using path finder to connect the two launchpads\n",
    "# Using path finder to connect the two launchpads\n",
    "\n",
    "                            \n",
    "linea = RoutePathfinder(design, 'linea', options = Dict(chip='main', trace_width ='20um',\n",
    "        trace_gap ='11um',  fillet='0um', hfss_wire_bonds = False,\n",
    "                                            lead=Dict(end_straight='0.2mm'),\n",
    "                                            pin_inputs=Dict(\n",
    "                                                start_pin=Dict(\n",
    "                                                    component='LP1',\n",
    "                                                    pin='tie'),\n",
    "                                                end_pin=Dict(\n",
    "                                                    component='LP2',\n",
    "                                                    pin='tie')\n",
    "                                            )))\n",
    "\n",
    "\n",
    "# Rebuild the GUI\n",
    "gui.rebuild()\n",
    "gui.autoscale()"
   ]
  },
  {
   "cell_type": "code",
   "execution_count": 19,
   "id": "92b1570a",
   "metadata": {},
   "outputs": [
    {
     "name": "stderr",
     "output_type": "stream",
     "text": [
      "WARNING:py.warnings:C:\\Users\\Quantum Circuits IB\\.conda\\envs\\kelvin\\lib\\site-packages\\pandas\\core\\dtypes\\cast.py:122: ShapelyDeprecationWarning: The array interface is deprecated and will no longer work in Shapely 2.0. Convert the '.coords' to a numpy array instead.\n",
      "  arr = construct_1d_object_array_from_listlike(values)\n",
      "\n",
      "WARNING:py.warnings:C:\\Users\\Quantum Circuits IB\\.conda\\envs\\kelvin\\lib\\site-packages\\pandas\\core\\dtypes\\cast.py:122: ShapelyDeprecationWarning: The array interface is deprecated and will no longer work in Shapely 2.0. Convert the '.coords' to a numpy array instead.\n",
      "  arr = construct_1d_object_array_from_listlike(values)\n",
      "\n",
      "WARNING:py.warnings:C:\\Users\\Quantum Circuits IB\\.conda\\envs\\kelvin\\lib\\site-packages\\pandas\\core\\dtypes\\cast.py:122: ShapelyDeprecationWarning: The array interface is deprecated and will no longer work in Shapely 2.0. Convert the '.coords' to a numpy array instead.\n",
      "  arr = construct_1d_object_array_from_listlike(values)\n",
      "\n",
      "WARNING:py.warnings:C:\\Users\\Quantum Circuits IB\\.conda\\envs\\kelvin\\lib\\site-packages\\pandas\\core\\dtypes\\cast.py:122: ShapelyDeprecationWarning: The array interface is deprecated and will no longer work in Shapely 2.0. Convert the '.coords' to a numpy array instead.\n",
      "  arr = construct_1d_object_array_from_listlike(values)\n",
      "\n",
      "WARNING:py.warnings:C:\\Users\\Quantum Circuits IB\\.conda\\envs\\kelvin\\lib\\site-packages\\pandas\\core\\dtypes\\cast.py:122: ShapelyDeprecationWarning: The array interface is deprecated and will no longer work in Shapely 2.0. Convert the '.coords' to a numpy array instead.\n",
      "  arr = construct_1d_object_array_from_listlike(values)\n",
      "\n",
      "WARNING:py.warnings:C:\\Users\\Quantum Circuits IB\\.conda\\envs\\kelvin\\lib\\site-packages\\pandas\\core\\dtypes\\cast.py:122: ShapelyDeprecationWarning: The array interface is deprecated and will no longer work in Shapely 2.0. Convert the '.coords' to a numpy array instead.\n",
      "  arr = construct_1d_object_array_from_listlike(values)\n",
      "\n"
     ]
    }
   ],
   "source": [
    "######################\n",
    "# lambda/4 resonator #\n",
    "######################\n",
    "\n",
    "# First we define the two end-points\n",
    "otg1 = OpenToGround(design, 'otg1', \n",
    "                    options=Dict(chip='main', pos_x='1.9mm',  pos_y='1.948mm', \n",
    "                                 orientation='180', width='20um', gap='11um',\n",
    "                                termination_gap='11um'))\n",
    "otg2 = ShortToGround(design, 'otg2', options=Dict(chip='main', pos_x='2.5mm',  pos_y='1mm', orientation='0'))\n",
    "\n",
    "# Use RouteMeander to fix the total length of the resonator\n",
    "meandro = RouteMeander(design, 'meandro',  options=Dict(chip='main',\n",
    "        trace_width ='cpw_width',\n",
    "        trace_gap ='11um',\n",
    "        total_length='5mm',\n",
    "        hfss_wire_bonds = False,\n",
    "        fillet='0 um',\n",
    "        lead = Dict(start_straight='0.5um', end_straight='200um'),\n",
    "        meander=Dict(spacing='230um', asymmetry='0um'),\n",
    "        pin_inputs=Dict(\n",
    "            start_pin=Dict(component='otg1', pin='open'),\n",
    "            end_pin=Dict(component='otg2', pin='short')), ))\n",
    "\n",
    "# rebuild the GUI\n",
    "gui.rebuild()\n",
    "gui.autoscale()"
   ]
  },
  {
   "cell_type": "code",
   "execution_count": 20,
   "id": "b60a6c31",
   "metadata": {},
   "outputs": [
    {
     "data": {
      "text/plain": [
       "{'pos_x': '1.9mm',\n",
       " 'pos_y': '1.948mm',\n",
       " 'orientation': '180',\n",
       " 'chip': 'main',\n",
       " 'layer': '1',\n",
       " 'width': '20um',\n",
       " 'gap': '11um',\n",
       " 'termination_gap': '11um'}"
      ]
     },
     "execution_count": 20,
     "metadata": {},
     "output_type": "execute_result"
    }
   ],
   "source": [
    "otg1.options"
   ]
  },
  {
   "cell_type": "code",
   "execution_count": 21,
   "id": "9956dd38",
   "metadata": {},
   "outputs": [
    {
     "data": {
      "image/png": "[encoded data removed]",
      "text/plain": [
       "<IPython.core.display.Image object>"
      ]
     },
     "metadata": {
      "image/png": {
       "width": 500
      }
     },
     "output_type": "display_data"
    }
   ],
   "source": [
    "gui.autoscale()\n",
    "gui.screenshot()"
   ]
  },
  {
   "cell_type": "markdown",
   "id": "e911c9e8",
   "metadata": {},
   "source": [
    "# EigenValue"
   ]
  },
  {
   "cell_type": "code",
   "execution_count": 9,
   "id": "c1f04f52",
   "metadata": {},
   "outputs": [],
   "source": [
    "from qiskit_metal.analyses.quantization import EPRanalysis\n",
    "eig_qres = EPRanalysis(design, \"hfss\")"
   ]
  },
  {
   "cell_type": "code",
   "execution_count": 10,
   "id": "a1f2922a",
   "metadata": {},
   "outputs": [],
   "source": [
    "hfss = eig_qres.sim.renderer"
   ]
  },
  {
   "cell_type": "code",
   "execution_count": 189,
   "id": "2cebe994",
   "metadata": {},
   "outputs": [
    {
     "name": "stderr",
     "output_type": "stream",
     "text": [
      "INFO 12:03AM [connect_project]: Connecting to Ansys Desktop API...\n",
      "INFO 12:03AM [load_ansys_project]: \tOpened Ansys App\n",
      "INFO 12:03AM [load_ansys_project]: \tOpened Ansys Desktop v2018.0.0\n",
      "INFO 12:03AM [load_ansys_project]: \tOpened Ansys Project\n",
      "\tFolder:    C:/Users/Quantum Circuits IB/Documents/Kelvin/\n",
      "\tProject:   Project1\n",
      "INFO 12:03AM [connect_design]: \tOpened active design\n",
      "\tDesign:    resonador_v3 [Solution type: DrivenModal]\n",
      "INFO 12:03AM [get_setup]: \tOpened setup `Setup`  (<class 'pyEPR.ansys.HfssDMSetup'>)\n",
      "INFO 12:03AM [connect]: \tConnected to project \"Project1\" and design \"resonador_v3\" 😀 \n",
      "\n"
     ]
    },
    {
     "data": {
      "text/plain": [
       "True"
      ]
     },
     "execution_count": 189,
     "metadata": {},
     "output_type": "execute_result"
    }
   ],
   "source": [
    "hfss.start()"
   ]
  },
  {
   "cell_type": "code",
   "execution_count": 190,
   "id": "36daefbb",
   "metadata": {},
   "outputs": [
    {
     "name": "stderr",
     "output_type": "stream",
     "text": [
      "12:03AM 06s WARNING [activate_ansys_design]: The design_name=resonador2 was not in active project.  Designs in active project are: \n",
      "['resonador_v3'].  A new design will be added to the project.  \n",
      "INFO 12:03AM [connect_design]: \tOpened active design\n",
      "\tDesign:    resonador2 [Solution type: Eigenmode]\n",
      "WARNING 12:03AM [connect_setup]: \tNo design setup detected.\n",
      "WARNING 12:03AM [connect_setup]: \tCreating eigenmode default setup.\n",
      "INFO 12:03AM [get_setup]: \tOpened setup `Setup`  (<class 'pyEPR.ansys.HfssEMSetup'>)\n"
     ]
    }
   ],
   "source": [
    "hfss.activate_ansys_design(\"resonador2\", 'eigenmode')  # use new_ansys_design() to force creation of a blank design"
   ]
  },
  {
   "cell_type": "code",
   "execution_count": 191,
   "id": "35b4fba6",
   "metadata": {},
   "outputs": [],
   "source": [
    "hfss.render_design([], [])"
   ]
  },
  {
   "cell_type": "code",
   "execution_count": 192,
   "id": "335b1e20",
   "metadata": {},
   "outputs": [
    {
     "name": "stderr",
     "output_type": "stream",
     "text": [
      "INFO 12:03AM [analyze]: Analyzing setup Setup\n"
     ]
    },
    {
     "ename": "com_error",
     "evalue": "(-2147352567, 'Exception occurred.', (0, None, None, None, 0, -2147024349), None)",
     "output_type": "error",
     "traceback": [
      "\u001b[1;31m---------------------------------------------------------------------------\u001b[0m",
      "\u001b[1;31mcom_error\u001b[0m                                 Traceback (most recent call last)",
      "Input \u001b[1;32mIn [192]\u001b[0m, in \u001b[0;36m<cell line: 9>\u001b[1;34m()\u001b[0m\n\u001b[0;32m      6\u001b[0m pinfo\u001b[38;5;241m.\u001b[39mdesign\u001b[38;5;241m.\u001b[39mset_variable(\u001b[38;5;124m'\u001b[39m\u001b[38;5;124mLj\u001b[39m\u001b[38;5;124m'\u001b[39m, \u001b[38;5;124m'\u001b[39m\u001b[38;5;124m10 nH\u001b[39m\u001b[38;5;124m'\u001b[39m)\n\u001b[0;32m      7\u001b[0m pinfo\u001b[38;5;241m.\u001b[39mdesign\u001b[38;5;241m.\u001b[39mset_variable(\u001b[38;5;124m'\u001b[39m\u001b[38;5;124mCj\u001b[39m\u001b[38;5;124m'\u001b[39m, \u001b[38;5;124m'\u001b[39m\u001b[38;5;124m0 fF\u001b[39m\u001b[38;5;124m'\u001b[39m)\n\u001b[1;32m----> 9\u001b[0m \u001b[43msetup\u001b[49m\u001b[38;5;241;43m.\u001b[39;49m\u001b[43manalyze\u001b[49m\u001b[43m(\u001b[49m\u001b[43m)\u001b[49m\n",
      "File \u001b[1;32m~\\.conda\\envs\\kelvin\\lib\\site-packages\\pyEPR\\ansys.py:1065\u001b[0m, in \u001b[0;36mHfssSetup.analyze\u001b[1;34m(self, name)\u001b[0m\n\u001b[0;32m   1063\u001b[0m     name \u001b[38;5;241m=\u001b[39m \u001b[38;5;28mself\u001b[39m\u001b[38;5;241m.\u001b[39mname\n\u001b[0;32m   1064\u001b[0m logger\u001b[38;5;241m.\u001b[39minfo(\u001b[38;5;124mf\u001b[39m\u001b[38;5;124m'\u001b[39m\u001b[38;5;124mAnalyzing setup \u001b[39m\u001b[38;5;132;01m{\u001b[39;00mname\u001b[38;5;132;01m}\u001b[39;00m\u001b[38;5;124m'\u001b[39m)\n\u001b[1;32m-> 1065\u001b[0m \u001b[38;5;28;01mreturn\u001b[39;00m \u001b[38;5;28;43mself\u001b[39;49m\u001b[38;5;241;43m.\u001b[39;49m\u001b[43mparent\u001b[49m\u001b[38;5;241;43m.\u001b[39;49m\u001b[43m_design\u001b[49m\u001b[38;5;241;43m.\u001b[39;49m\u001b[43mAnalyze\u001b[49m\u001b[43m(\u001b[49m\u001b[43mname\u001b[49m\u001b[43m)\u001b[49m\n",
      "File \u001b[1;32m<COMObject GetDesign>:2\u001b[0m, in \u001b[0;36mAnalyze\u001b[1;34m(self, simulationName)\u001b[0m\n",
      "\u001b[1;31mcom_error\u001b[0m: (-2147352567, 'Exception occurred.', (0, None, None, None, 0, -2147024349), None)"
     ]
    }
   ],
   "source": [
    "# Analysis properties\n",
    "setup = hfss.pinfo.setup\n",
    "setup.n_modes = 2\n",
    "setup.passes = 15\n",
    "pinfo = hfss.pinfo\n",
    "pinfo.design.set_variable('Lj', '10 nH')\n",
    "pinfo.design.set_variable('Cj', '0 fF')\n",
    "\n",
    "setup.analyze()"
   ]
  },
  {
   "cell_type": "code",
   "execution_count": 19,
   "id": "ef7e898e",
   "metadata": {},
   "outputs": [
    {
     "name": "stderr",
     "output_type": "stream",
     "text": [
      "06:06PM 20s INFO [get_f_convergence]: Saved convergences to C:\\Users\\Quantum Circuits IB\\Documents\\Kelvin\\Qmetal_install\\qiskit-metal\\my_works\\hfss_eig_f_convergence.csv\n"
     ]
    }
   ],
   "source": [
    "eig_qres.sim.convergence_t, eig_qres.sim.convergence_f, _ = hfss.get_convergences()\n",
    "eig_qres.sim.plot_convergences()"
   ]
  },
  {
   "cell_type": "markdown",
   "id": "8bd2910a",
   "metadata": {},
   "source": [
    "# Scattering Analysis"
   ]
  },
  {
   "cell_type": "code",
   "execution_count": 40,
   "id": "be209d2e",
   "metadata": {},
   "outputs": [],
   "source": [
    "from qiskit_metal.analyses.simulation import ScatteringImpedanceSim\n",
    "em1 = ScatteringImpedanceSim(design, \"hfss\")"
   ]
  },
  {
   "cell_type": "code",
   "execution_count": 48,
   "id": "504994dd",
   "metadata": {},
   "outputs": [],
   "source": [
    "design_name= \"Sweep_DrivenModal\"\n",
    "qcomp_render = [] # Means to render everything in qgeometry table.\n",
    "open_terminations = []\n",
    "\n",
    "# Here, pin LP1_in and LP2_in are converted into lumped ports,\n",
    "#           each with an impedance of 50 Ohms. <br>\n",
    "port_list = [('LP1', 'in', 50),\n",
    "             ('LP2', 'in', 50)]\n",
    "box_plus_buffer = True"
   ]
  },
  {
   "cell_type": "code",
   "execution_count": 49,
   "id": "be7762a9",
   "metadata": {},
   "outputs": [
    {
     "name": "stderr",
     "output_type": "stream",
     "text": [
      "INFO 11:25PM [connect_project]: Connecting to Ansys Desktop API...\n",
      "INFO 11:25PM [load_ansys_project]: \tOpened Ansys App\n",
      "INFO 11:25PM [load_ansys_project]: \tOpened Ansys Desktop v2018.0.0\n",
      "INFO 11:25PM [load_ansys_project]: \tOpened Ansys Project\n",
      "\tFolder:    C:/Users/Quantum Circuits IB/Documents/Kelvin/\n",
      "\tProject:   resonador\n",
      "INFO 11:25PM [connect_design]: \tOpened active design\n",
      "\tDesign:    Resonator_v5 [Solution type: DrivenModal]\n",
      "INFO 11:25PM [get_setup]: \tOpened setup `Setup`  (<class 'pyEPR.ansys.HfssDMSetup'>)\n",
      "INFO 11:25PM [connect]: \tConnected to project \"resonador\" and design \"Resonator_v5\" 😀 \n",
      "\n"
     ]
    },
    {
     "data": {
      "text/plain": [
       "True"
      ]
     },
     "execution_count": 49,
     "metadata": {},
     "output_type": "execute_result"
    }
   ],
   "source": [
    "# we use HFSS as rendere\n",
    "hfss = em1.renderer\n",
    "hfss.start()"
   ]
  },
  {
   "cell_type": "code",
   "execution_count": 50,
   "id": "6bd25114",
   "metadata": {},
   "outputs": [
    {
     "name": "stderr",
     "output_type": "stream",
     "text": [
      "11:25PM 14s WARNING [activate_ansys_design]: The design_name=Resonator_v6 was not in active project.  Designs in active project are: \n",
      "['Resonator_v2', 'Resonator_v3', 'Resonator_v4', 'Resonator_v5'].  A new design will be added to the project.  \n",
      "INFO 11:25PM [__del__]: Disconnected from Ansys HFSS\n",
      "INFO 11:25PM [__del__]: Disconnected from Ansys HFSS\n",
      "INFO 11:25PM [__del__]: Disconnected from Ansys HFSS\n",
      "INFO 11:25PM [connect_design]: \tOpened active design\n",
      "\tDesign:    Resonator_v6 [Solution type: DrivenModal]\n",
      "WARNING 11:25PM [connect_setup]: \tNo design setup detected.\n",
      "WARNING 11:25PM [connect_setup]: \tCreating driven modal default setup.\n",
      "INFO 11:25PM [get_setup]: \tOpened setup `Setup`  (<class 'pyEPR.ansys.HfssDMSetup'>)\n",
      "11:25PM 14s WARNING [edit_drivenmodal_setup]: In setup_args, key=max_delta_s, value=0.15 is not in pinfo.setup, the key/value pair from setup_args not added to Setup in Ansys.\n",
      "11:25PM 14s WARNING [edit_drivenmodal_setup]: The value for freq_ghz should be an float. The present value is 5.\n",
      "11:25PM 14s WARNING [edit_drivenmodal_setup]: In setup_args, key=freq_ghz, value=5 is not in pinfo.setup, the key/value pair from setup_args not added to Setup in Ansys.\n"
     ]
    }
   ],
   "source": [
    "# Here we activate the design for a drivenmodal solution\n",
    "hfss.activate_ansys_design(\"Resonator_v6\", 'drivenmodal')\n",
    "setup_args = Dict(max_delta_s=0.15, freq_ghz=5)\n",
    "setup_args.name = 'Setup'\n",
    "hfss.edit_drivenmodal_setup(setup_args)"
   ]
  },
  {
   "cell_type": "code",
   "execution_count": 51,
   "id": "5c8fc60c",
   "metadata": {},
   "outputs": [],
   "source": [
    "# set buffer\n",
    "hfss.options['x_buffer_width_mm'] = 0.1\n",
    "hfss.options['y_buffer_width_mm'] = 0.1\n",
    "#hfss.options"
   ]
  },
  {
   "cell_type": "code",
   "execution_count": 52,
   "id": "d685f9fc",
   "metadata": {},
   "outputs": [],
   "source": [
    "# render the design\n",
    "hfss.render_design(selection=[], \n",
    "                   open_pins=open_terminations, \n",
    "                   port_list=port_list, \n",
    "                   box_plus_buffer = box_plus_buffer)"
   ]
  },
  {
   "cell_type": "code",
   "execution_count": 53,
   "id": "8a316652",
   "metadata": {},
   "outputs": [],
   "source": [
    "# for acurate simulations, make sure the mesh is fine enough for the meander\n",
    "hfss.modeler.mesh_length(\n",
    "                'cpw_mesh',\n",
    "                ['trace_meandro'],\n",
    "                MaxLength='0.001mm')"
   ]
  },
  {
   "cell_type": "markdown",
   "id": "9ad348ed",
   "metadata": {},
   "source": [
    "# Broad sweet to find the resonance"
   ]
  },
  {
   "cell_type": "code",
   "execution_count": 54,
   "id": "e65e1ab2",
   "metadata": {},
   "outputs": [
    {
     "name": "stderr",
     "output_type": "stream",
     "text": [
      "INFO 11:25PM [get_setup]: \tOpened setup `Setup`  (<class 'pyEPR.ansys.HfssDMSetup'>)\n"
     ]
    },
    {
     "data": {
      "text/plain": [
       "<pyEPR.ansys.HfssFrequencySweep at 0x257de7d52a0>"
      ]
     },
     "execution_count": 54,
     "metadata": {},
     "output_type": "execute_result"
    }
   ],
   "source": [
    "hfss.add_sweep(setup_name=\"Setup\", \n",
    "               name=\"Sweep\", \n",
    "               start_ghz=5.5,\n",
    "               stop_ghz=6.5,\n",
    "               count=2000,\n",
    "               type=\"Fast\")"
   ]
  },
  {
   "cell_type": "code",
   "execution_count": 39,
   "id": "bdeac158",
   "metadata": {},
   "outputs": [
    {
     "name": "stderr",
     "output_type": "stream",
     "text": [
      "INFO 12:53AM [get_setup]: \tOpened setup `Setup`  (<class 'pyEPR.ansys.HfssDMSetup'>)\n",
      "INFO 12:53AM [analyze]: Analyzing setup Setup : Sweep\n"
     ]
    }
   ],
   "source": [
    "hfss.analyze_sweep('Sweep', 'Setup')"
   ]
  },
  {
   "cell_type": "code",
   "execution_count": 18,
   "id": "522904f7",
   "metadata": {},
   "outputs": [
    {
     "ename": "ValueError",
     "evalue": "'S[1,1]_Re' is not in list",
     "output_type": "error",
     "traceback": [
      "\u001b[1;31m---------------------------------------------------------------------------\u001b[0m",
      "\u001b[1;31mValueError\u001b[0m                                Traceback (most recent call last)",
      "Input \u001b[1;32mIn [18]\u001b[0m, in \u001b[0;36m<cell line: 1>\u001b[1;34m()\u001b[0m\n\u001b[1;32m----> 1\u001b[0m \u001b[43mhfss\u001b[49m\u001b[38;5;241;43m.\u001b[39;49m\u001b[43mplot_params\u001b[49m\u001b[43m(\u001b[49m\u001b[43m[\u001b[49m\u001b[38;5;124;43m'\u001b[39;49m\u001b[38;5;124;43mS11\u001b[39;49m\u001b[38;5;124;43m'\u001b[39;49m\u001b[43m,\u001b[49m\u001b[43m \u001b[49m\u001b[38;5;124;43m'\u001b[39;49m\u001b[38;5;124;43mS21\u001b[39;49m\u001b[38;5;124;43m'\u001b[39;49m\u001b[43m]\u001b[49m\u001b[43m)\u001b[49m\n",
      "File \u001b[1;32mc:\\users\\quantum circuits ib\\documents\\kelvin\\qmetal_install\\qiskit-metal\\qiskit_metal\\renderers\\renderer_ansys\\hfss_renderer.py:949\u001b[0m, in \u001b[0;36mQHFSSRenderer.plot_params\u001b[1;34m(self, param_name)\u001b[0m\n\u001b[0;32m    942\u001b[0m \u001b[38;5;28;01mdef\u001b[39;00m \u001b[38;5;21mplot_params\u001b[39m(\u001b[38;5;28mself\u001b[39m, param_name: Union[\u001b[38;5;28mlist\u001b[39m, \u001b[38;5;28;01mNone\u001b[39;00m] \u001b[38;5;241m=\u001b[39m \u001b[38;5;28;01mNone\u001b[39;00m):\n\u001b[0;32m    943\u001b[0m     \u001b[38;5;124;03m\"\"\"Plot one or more parameters (S, Y, or Z) as a function of frequency.\u001b[39;00m\n\u001b[0;32m    944\u001b[0m \u001b[38;5;124;03m    S = scattering matrix, Y = Admittance, Z= impedance.\u001b[39;00m\n\u001b[0;32m    945\u001b[0m \n\u001b[0;32m    946\u001b[0m \u001b[38;5;124;03m    Args:\u001b[39;00m\n\u001b[0;32m    947\u001b[0m \u001b[38;5;124;03m        param_name (Union[list, None], optional): Parameters to plot. Defaults to None.\u001b[39;00m\n\u001b[0;32m    948\u001b[0m \u001b[38;5;124;03m    \"\"\"\u001b[39;00m\n\u001b[1;32m--> 949\u001b[0m     freqs, Pcurves, Pparams \u001b[38;5;241m=\u001b[39m \u001b[38;5;28;43mself\u001b[39;49m\u001b[38;5;241;43m.\u001b[39;49m\u001b[43mget_params\u001b[49m\u001b[43m(\u001b[49m\u001b[43mparam_name\u001b[49m\u001b[43m)\u001b[49m\n\u001b[0;32m    950\u001b[0m     \u001b[38;5;28;01mif\u001b[39;00m Pparams \u001b[38;5;129;01mis\u001b[39;00m \u001b[38;5;129;01mnot\u001b[39;00m \u001b[38;5;28;01mNone\u001b[39;00m:\n\u001b[0;32m    951\u001b[0m         fig, axs \u001b[38;5;241m=\u001b[39m plt\u001b[38;5;241m.\u001b[39msubplots(\u001b[38;5;241m1\u001b[39m, \u001b[38;5;241m2\u001b[39m, figsize\u001b[38;5;241m=\u001b[39m(\u001b[38;5;241m10\u001b[39m, \u001b[38;5;241m6\u001b[39m))\n",
      "File \u001b[1;32mc:\\users\\quantum circuits ib\\documents\\kelvin\\qmetal_install\\qiskit-metal\\qiskit_metal\\renderers\\renderer_ansys\\hfss_renderer.py:905\u001b[0m, in \u001b[0;36mQHFSSRenderer.get_params\u001b[1;34m(self, param_name)\u001b[0m\n\u001b[0;32m    898\u001b[0m \u001b[38;5;124;03m\"\"\"Get one or more parameters (S, Y, or Z) as a function of frequency.\u001b[39;00m\n\u001b[0;32m    899\u001b[0m \n\u001b[0;32m    900\u001b[0m \u001b[38;5;124;03mArgs:\u001b[39;00m\n\u001b[0;32m    901\u001b[0m \u001b[38;5;124;03m    param_name (Union[list, None], optional): Parameters to obtain. Defaults to None.\u001b[39;00m\n\u001b[0;32m    902\u001b[0m \u001b[38;5;124;03m\"\"\"\u001b[39;00m\n\u001b[0;32m    903\u001b[0m \u001b[38;5;28;01mif\u001b[39;00m \u001b[38;5;28mself\u001b[39m\u001b[38;5;241m.\u001b[39mcurrent_sweep:\n\u001b[1;32m--> 905\u001b[0m     freqs, Pcurves \u001b[38;5;241m=\u001b[39m \u001b[38;5;28;43mself\u001b[39;49m\u001b[38;5;241;43m.\u001b[39;49m\u001b[43mcurrent_sweep\u001b[49m\u001b[38;5;241;43m.\u001b[39;49m\u001b[43mget_network_data\u001b[49m\u001b[43m(\u001b[49m\u001b[43mparam_name\u001b[49m\u001b[43m)\u001b[49m\n\u001b[0;32m    906\u001b[0m     Pparams \u001b[38;5;241m=\u001b[39m pd\u001b[38;5;241m.\u001b[39mDataFrame(Pcurves,\n\u001b[0;32m    907\u001b[0m                            columns\u001b[38;5;241m=\u001b[39mfreqs \u001b[38;5;241m/\u001b[39m \u001b[38;5;241m1e9\u001b[39m,\n\u001b[0;32m    908\u001b[0m                            index\u001b[38;5;241m=\u001b[39mparam_name)\u001b[38;5;241m.\u001b[39mtranspose()\n\u001b[0;32m    909\u001b[0m \u001b[38;5;28;01mreturn\u001b[39;00m freqs, Pcurves, Pparams\n",
      "File \u001b[1;32m~\\.conda\\envs\\kelvin\\lib\\site-packages\\pyEPR\\ansys.py:1813\u001b[0m, in \u001b[0;36mHfssFrequencySweep.get_network_data\u001b[1;34m(self, formats)\u001b[0m\n\u001b[0;32m   1810\u001b[0m \u001b[38;5;66;03m# TODO: If Ansys version is 2019, use 'Real' and 'Imag'\u001b[39;00m\n\u001b[0;32m   1811\u001b[0m \u001b[38;5;66;03m# in place of 'Re' and 'Im\u001b[39;00m\n\u001b[0;32m   1812\u001b[0m \u001b[38;5;28;01mfor\u001b[39;00m i, j \u001b[38;5;129;01min\u001b[39;00m \u001b[38;5;28mlist\u001b[39m:\n\u001b[1;32m-> 1813\u001b[0m     real_idx \u001b[38;5;241m=\u001b[39m \u001b[43mcolnames\u001b[49m\u001b[38;5;241;43m.\u001b[39;49m\u001b[43mindex\u001b[49m\u001b[43m(\u001b[49m\u001b[38;5;124;43m\"\u001b[39;49m\u001b[38;5;132;43;01m%s\u001b[39;49;00m\u001b[38;5;124;43m[\u001b[39;49m\u001b[38;5;132;43;01m%d\u001b[39;49;00m\u001b[38;5;124;43m,\u001b[39;49m\u001b[38;5;132;43;01m%d\u001b[39;49;00m\u001b[38;5;124;43m]_Re\u001b[39;49m\u001b[38;5;124;43m\"\u001b[39;49m\u001b[43m \u001b[49m\u001b[38;5;241;43m%\u001b[39;49m\n\u001b[0;32m   1814\u001b[0m \u001b[43m                            \u001b[49m\u001b[43m(\u001b[49m\u001b[43mdata_type\u001b[49m\u001b[43m,\u001b[49m\u001b[43m \u001b[49m\u001b[43mi\u001b[49m\u001b[43m,\u001b[49m\u001b[43m \u001b[49m\u001b[43mj\u001b[49m\u001b[43m)\u001b[49m\u001b[43m)\u001b[49m\n\u001b[0;32m   1815\u001b[0m     imag_idx \u001b[38;5;241m=\u001b[39m colnames\u001b[38;5;241m.\u001b[39mindex(\u001b[38;5;124m\"\u001b[39m\u001b[38;5;132;01m%s\u001b[39;00m\u001b[38;5;124m[\u001b[39m\u001b[38;5;132;01m%d\u001b[39;00m\u001b[38;5;124m,\u001b[39m\u001b[38;5;132;01m%d\u001b[39;00m\u001b[38;5;124m]_Im\u001b[39m\u001b[38;5;124m\"\u001b[39m \u001b[38;5;241m%\u001b[39m\n\u001b[0;32m   1816\u001b[0m                             (data_type, i, j))\n\u001b[0;32m   1817\u001b[0m     c_arr \u001b[38;5;241m=\u001b[39m array[:, real_idx] \u001b[38;5;241m+\u001b[39m \u001b[38;5;241m1\u001b[39mj \u001b[38;5;241m*\u001b[39m array[:, imag_idx]\n",
      "\u001b[1;31mValueError\u001b[0m: 'S[1,1]_Re' is not in list"
     ]
    }
   ],
   "source": [
    "hfss.plot_params(['S11', 'S21'])"
   ]
  },
  {
   "cell_type": "code",
   "execution_count": 19,
   "id": "c1f26b38",
   "metadata": {},
   "outputs": [
    {
     "ename": "ValueError",
     "evalue": "'S[2,1]_Re' is not in list",
     "output_type": "error",
     "traceback": [
      "\u001b[1;31m---------------------------------------------------------------------------\u001b[0m",
      "\u001b[1;31mValueError\u001b[0m                                Traceback (most recent call last)",
      "Input \u001b[1;32mIn [19]\u001b[0m, in \u001b[0;36m<cell line: 2>\u001b[1;34m()\u001b[0m\n\u001b[0;32m      1\u001b[0m \u001b[38;5;66;03m# extract the S21 parameters\u001b[39;00m\n\u001b[1;32m----> 2\u001b[0m freqs, Pcurves, Pparams \u001b[38;5;241m=\u001b[39m \u001b[43mhfss\u001b[49m\u001b[38;5;241;43m.\u001b[39;49m\u001b[43mget_params\u001b[49m\u001b[43m(\u001b[49m\u001b[43m[\u001b[49m\u001b[38;5;124;43m'\u001b[39;49m\u001b[38;5;124;43mS21\u001b[39;49m\u001b[38;5;124;43m'\u001b[39;49m\u001b[43m]\u001b[49m\u001b[43m)\u001b[49m\n",
      "File \u001b[1;32mc:\\users\\quantum circuits ib\\documents\\kelvin\\qmetal_install\\qiskit-metal\\qiskit_metal\\renderers\\renderer_ansys\\hfss_renderer.py:905\u001b[0m, in \u001b[0;36mQHFSSRenderer.get_params\u001b[1;34m(self, param_name)\u001b[0m\n\u001b[0;32m    898\u001b[0m \u001b[38;5;124;03m\"\"\"Get one or more parameters (S, Y, or Z) as a function of frequency.\u001b[39;00m\n\u001b[0;32m    899\u001b[0m \n\u001b[0;32m    900\u001b[0m \u001b[38;5;124;03mArgs:\u001b[39;00m\n\u001b[0;32m    901\u001b[0m \u001b[38;5;124;03m    param_name (Union[list, None], optional): Parameters to obtain. Defaults to None.\u001b[39;00m\n\u001b[0;32m    902\u001b[0m \u001b[38;5;124;03m\"\"\"\u001b[39;00m\n\u001b[0;32m    903\u001b[0m \u001b[38;5;28;01mif\u001b[39;00m \u001b[38;5;28mself\u001b[39m\u001b[38;5;241m.\u001b[39mcurrent_sweep:\n\u001b[1;32m--> 905\u001b[0m     freqs, Pcurves \u001b[38;5;241m=\u001b[39m \u001b[38;5;28;43mself\u001b[39;49m\u001b[38;5;241;43m.\u001b[39;49m\u001b[43mcurrent_sweep\u001b[49m\u001b[38;5;241;43m.\u001b[39;49m\u001b[43mget_network_data\u001b[49m\u001b[43m(\u001b[49m\u001b[43mparam_name\u001b[49m\u001b[43m)\u001b[49m\n\u001b[0;32m    906\u001b[0m     Pparams \u001b[38;5;241m=\u001b[39m pd\u001b[38;5;241m.\u001b[39mDataFrame(Pcurves,\n\u001b[0;32m    907\u001b[0m                            columns\u001b[38;5;241m=\u001b[39mfreqs \u001b[38;5;241m/\u001b[39m \u001b[38;5;241m1e9\u001b[39m,\n\u001b[0;32m    908\u001b[0m                            index\u001b[38;5;241m=\u001b[39mparam_name)\u001b[38;5;241m.\u001b[39mtranspose()\n\u001b[0;32m    909\u001b[0m \u001b[38;5;28;01mreturn\u001b[39;00m freqs, Pcurves, Pparams\n",
      "File \u001b[1;32m~\\.conda\\envs\\kelvin\\lib\\site-packages\\pyEPR\\ansys.py:1813\u001b[0m, in \u001b[0;36mHfssFrequencySweep.get_network_data\u001b[1;34m(self, formats)\u001b[0m\n\u001b[0;32m   1810\u001b[0m \u001b[38;5;66;03m# TODO: If Ansys version is 2019, use 'Real' and 'Imag'\u001b[39;00m\n\u001b[0;32m   1811\u001b[0m \u001b[38;5;66;03m# in place of 'Re' and 'Im\u001b[39;00m\n\u001b[0;32m   1812\u001b[0m \u001b[38;5;28;01mfor\u001b[39;00m i, j \u001b[38;5;129;01min\u001b[39;00m \u001b[38;5;28mlist\u001b[39m:\n\u001b[1;32m-> 1813\u001b[0m     real_idx \u001b[38;5;241m=\u001b[39m \u001b[43mcolnames\u001b[49m\u001b[38;5;241;43m.\u001b[39;49m\u001b[43mindex\u001b[49m\u001b[43m(\u001b[49m\u001b[38;5;124;43m\"\u001b[39;49m\u001b[38;5;132;43;01m%s\u001b[39;49;00m\u001b[38;5;124;43m[\u001b[39;49m\u001b[38;5;132;43;01m%d\u001b[39;49;00m\u001b[38;5;124;43m,\u001b[39;49m\u001b[38;5;132;43;01m%d\u001b[39;49;00m\u001b[38;5;124;43m]_Re\u001b[39;49m\u001b[38;5;124;43m\"\u001b[39;49m\u001b[43m \u001b[49m\u001b[38;5;241;43m%\u001b[39;49m\n\u001b[0;32m   1814\u001b[0m \u001b[43m                            \u001b[49m\u001b[43m(\u001b[49m\u001b[43mdata_type\u001b[49m\u001b[43m,\u001b[49m\u001b[43m \u001b[49m\u001b[43mi\u001b[49m\u001b[43m,\u001b[49m\u001b[43m \u001b[49m\u001b[43mj\u001b[49m\u001b[43m)\u001b[49m\u001b[43m)\u001b[49m\n\u001b[0;32m   1815\u001b[0m     imag_idx \u001b[38;5;241m=\u001b[39m colnames\u001b[38;5;241m.\u001b[39mindex(\u001b[38;5;124m\"\u001b[39m\u001b[38;5;132;01m%s\u001b[39;00m\u001b[38;5;124m[\u001b[39m\u001b[38;5;132;01m%d\u001b[39;00m\u001b[38;5;124m,\u001b[39m\u001b[38;5;132;01m%d\u001b[39;00m\u001b[38;5;124m]_Im\u001b[39m\u001b[38;5;124m\"\u001b[39m \u001b[38;5;241m%\u001b[39m\n\u001b[0;32m   1816\u001b[0m                             (data_type, i, j))\n\u001b[0;32m   1817\u001b[0m     c_arr \u001b[38;5;241m=\u001b[39m array[:, real_idx] \u001b[38;5;241m+\u001b[39m \u001b[38;5;241m1\u001b[39mj \u001b[38;5;241m*\u001b[39m array[:, imag_idx]\n",
      "\u001b[1;31mValueError\u001b[0m: 'S[2,1]_Re' is not in list"
     ]
    }
   ],
   "source": [
    "# extract the S21 parameters\n",
    "freqs, Pcurves, Pparams = hfss.get_params(['S21'])"
   ]
  },
  {
   "cell_type": "code",
   "execution_count": 32,
   "id": "1c71579a",
   "metadata": {},
   "outputs": [
    {
     "ename": "NameError",
     "evalue": "name 'freqs' is not defined",
     "output_type": "error",
     "traceback": [
      "\u001b[1;31m---------------------------------------------------------------------------\u001b[0m",
      "\u001b[1;31mNameError\u001b[0m                                 Traceback (most recent call last)",
      "Input \u001b[1;32mIn [32]\u001b[0m, in \u001b[0;36m<cell line: 2>\u001b[1;34m()\u001b[0m\n\u001b[0;32m      1\u001b[0m \u001b[38;5;66;03m# find armin \u001b[39;00m\n\u001b[1;32m----> 2\u001b[0m f_res \u001b[38;5;241m=\u001b[39m \u001b[43mfreqs\u001b[49m[np\u001b[38;5;241m.\u001b[39margmin(np\u001b[38;5;241m.\u001b[39mabs(Pparams\u001b[38;5;241m.\u001b[39mS21\u001b[38;5;241m.\u001b[39mvalues))]\n\u001b[0;32m      3\u001b[0m f_res\n",
      "\u001b[1;31mNameError\u001b[0m: name 'freqs' is not defined"
     ]
    }
   ],
   "source": [
    "# find armin \n",
    "f_res = freqs[np.argmin(np.abs(Pparams.S21.values))]\n",
    "f_res"
   ]
  },
  {
   "cell_type": "markdown",
   "id": "43df3d00",
   "metadata": {},
   "source": [
    "# Narrow sweep around the resonance found above"
   ]
  },
  {
   "cell_type": "code",
   "execution_count": null,
   "id": "50ddb791",
   "metadata": {},
   "outputs": [],
   "source": [
    "#fine sweep\n",
    "hfss.add_sweep(setup_name=\"Setup\", \n",
    "               name=\"Sweep_narrow\", \n",
    "               start_ghz=np.round(f_res/1e9,3)-0.01,\n",
    "               stop_ghz=np.round(f_res/1e9,3)+0.01,\n",
    "               count=1001,\n",
    "               type=\"Fast\") #slow but precise"
   ]
  },
  {
   "cell_type": "code",
   "execution_count": null,
   "id": "ffea4175",
   "metadata": {},
   "outputs": [],
   "source": [
    "hfss.analyze_sweep('Sweep_narrow', 'Setup')"
   ]
  },
  {
   "cell_type": "code",
   "execution_count": null,
   "id": "f06626b4",
   "metadata": {},
   "outputs": [],
   "source": [
    "hfss.plot_params(['S11', 'S21'])"
   ]
  },
  {
   "cell_type": "code",
   "execution_count": null,
   "id": "743b8dcf",
   "metadata": {},
   "outputs": [],
   "source": []
  },
  {
   "cell_type": "markdown",
   "id": "c72f2f6d",
   "metadata": {},
   "source": [
    "# Close connections"
   ]
  },
  {
   "cell_type": "code",
   "execution_count": 57,
   "id": "80694931",
   "metadata": {},
   "outputs": [
    {
     "name": "stdout",
     "output_type": "stream",
     "text": [
      "Warning! 3 COM references still alive\n",
      "Ansys will likely refuse to shut down\n"
     ]
    }
   ],
   "source": [
    "em1.close()"
   ]
  },
  {
   "cell_type": "code",
   "execution_count": 58,
   "id": "13927800",
   "metadata": {},
   "outputs": [
    {
     "name": "stdout",
     "output_type": "stream",
     "text": [
      "Warning! 3 COM references still alive\n",
      "Ansys will likely refuse to shut down\n"
     ]
    }
   ],
   "source": [
    "hfss.disconnect_ansys()"
   ]
  },
  {
   "cell_type": "code",
   "execution_count": 24,
   "id": "dc2621b9",
   "metadata": {},
   "outputs": [
    {
     "data": {
      "text/plain": [
       "True"
      ]
     },
     "execution_count": 24,
     "metadata": {},
     "output_type": "execute_result"
    }
   ],
   "source": [
    "gui.main_window.close()"
   ]
  },
  {
   "cell_type": "code",
   "execution_count": 39,
   "id": "6d7375c2",
   "metadata": {},
   "outputs": [
    {
     "ename": "NameError",
     "evalue": "name 'close' is not defined",
     "output_type": "error",
     "traceback": [
      "\u001b[1;31m---------------------------------------------------------------------------\u001b[0m",
      "\u001b[1;31mNameError\u001b[0m                                 Traceback (most recent call last)",
      "Input \u001b[1;32mIn [39]\u001b[0m, in \u001b[0;36m<cell line: 1>\u001b[1;34m()\u001b[0m\n\u001b[1;32m----> 1\u001b[0m \u001b[43mclose\u001b[49m()\n",
      "\u001b[1;31mNameError\u001b[0m: name 'close' is not defined"
     ]
    }
   ],
   "source": [
    "close()"
   ]
  },
  {
   "cell_type": "code",
   "execution_count": null,
   "id": "81863bcc",
   "metadata": {},
   "outputs": [],
   "source": []
  }
 ],
 "metadata": {
  "kernelspec": {
   "display_name": "Python 3 (ipykernel)",
   "language": "python",
   "name": "python3"
  },
  "language_info": {
   "codemirror_mode": {
    "name": "ipython",
    "version": 3
   },
   "file_extension": ".py",
   "mimetype": "text/x-python",
   "name": "python",
   "nbconvert_exporter": "python",
   "pygments_lexer": "ipython3",
   "version": "3.10.6"
  },
  "latex_envs": {
   "LaTeX_envs_menu_present": true,
   "autoclose": false,
   "autocomplete": true,
   "bibliofile": "biblio.bib",
   "cite_by": "apalike",
   "current_citInitial": 1,
   "eqLabelWithNumbers": true,
   "eqNumInitial": 1,
   "hotkeys": {
    "equation": "Ctrl-E",
    "itemize": "Ctrl-I"
   },
   "labels_anchors": false,
   "latex_user_defs": false,
   "report_style_numbering": false,
   "user_envs_cfg": false
  },
  "toc": {
   "base_numbering": 1,
   "nav_menu": {},
   "number_sections": true,
   "sideBar": true,
   "skip_h1_title": false,
   "title_cell": "Table of Contents",
   "title_sidebar": "Contents",
   "toc_cell": false,
   "toc_position": {},
   "toc_section_display": true,
   "toc_window_display": false
  }
 },
 "nbformat": 4,
 "nbformat_minor": 5
}
